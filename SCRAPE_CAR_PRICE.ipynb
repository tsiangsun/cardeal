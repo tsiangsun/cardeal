{
 "cells": [
  {
   "cell_type": "code",
   "execution_count": 1,
   "metadata": {
    "collapsed": true
   },
   "outputs": [],
   "source": [
    "%matplotlib inline\n",
    "import matplotlib\n",
    "import seaborn as sns\n",
    "matplotlib.rcParams['savefig.dpi'] = 144"
   ]
  },
  {
   "cell_type": "code",
   "execution_count": 323,
   "metadata": {
    "collapsed": true
   },
   "outputs": [],
   "source": [
    "import requests\n",
    "city = 'sfbay'\n",
    "url = 'https://'+ city + '.craigslist.org/search/cto'\n",
    "base_url = 'https://'+ city + '.craigslist.org'\n",
    "make = 'toyota'\n",
    "model = 'camry'\n",
    "min_year ='1995'\n",
    "max_year ='2018'"
   ]
  },
  {
   "cell_type": "code",
   "execution_count": 254,
   "metadata": {
    "collapsed": false
   },
   "outputs": [
    {
     "name": "stdout",
     "output_type": "stream",
     "text": [
      "https://sfbay.craigslist.org/search/cto?query=toyota%2Bcamry&min_auto_year=1995&hasPic=1&max_auto_year=2018\n"
     ]
    },
    {
     "data": {
      "text/plain": [
       "u'\\ufeff<!DOCTYPE html>\\n\\n<html class=\"no-js\"><head>\\n    <title>SF bay area cars &amp; trucks - by owner &quot;toyota+camry&quot; - craigslist</title>\\n\\n    <meta name=\"description\" content=\"SF bay area cars &amp; trucks - by owner &quot;toyota+camry&quot; - craigslist\">\\n    <meta http-equiv=\"X-UA-Compatible\" content=\"IE=Edge\"/>\\n    <link rel=\"canonical\" href=\"https://sfbay.craigslist.org/search/cto\">\\n    <link rel=\"alternate\" type=\"application/rss+xml\" href=\"https://sfbay.craigslist.org/search/cto?format=rss&amp;hasPic=1&amp;max_auto_year=2018&amp;min_auto_year=1995&amp;query=toyota%2Bcamry\" title=\"RSS feed for craigslist | SF bay area cars &amp; trucks - by owner &quot;toyota+camry&quot; - craigslist \">\\n    \\n    <link rel=\"next\" href=\"https://sfbay.craigslist.org/search/cto?s=120&amp;hasPic=1&amp;max_auto_year=2018&amp;min_auto_year=1995&amp;query=toyota%2Bcamry\">\\n    <meta name=\"viewport\" content=\"width=device-width,initial-scale=1\">\\n    <link type=\"text/css\" rel=\"stylesheet\" media=\"all\" hre...'"
      ]
     },
     "execution_count": 254,
     "metadata": {},
     "output_type": "execute_result"
    }
   ],
   "source": [
    "\n",
    "user_agent = 'Mozilla/5.0 (Macintosh; Intel Mac OS X 10.12; rv:53.0) Gecko/20100101 Firefox/53.0'\n",
    "user_agent = 'Mozilla/5.0 (Macintosh; Intel Mac OS X 10_12_4) AppleWebKit/603.1.30 (KHTML, like Gecko) Version/10.1 Safari/603.1.30'\n",
    "user_agent = 'Mozilla/5.0 (Macintosh; Intel Mac OS X 10_12_4) AppleWebKit/537.36 (KHTML, like Gecko) Chrome/58.0.3029.81 Safari/537.36'\n",
    "\n",
    "head = {'User-Agent': user_agent}\n",
    "\n",
    "params={\"query\": make+'+'+model, \"hasPic\": 1, \"min_auto_year\": min_year, \"max_auto_year\": max_year}\n",
    "\n",
    "response = requests.get(url, params, headers=head)\n",
    "print response.url\n",
    "response.text[:1000] + \"...\""
   ]
  },
  {
   "cell_type": "code",
   "execution_count": 103,
   "metadata": {
    "collapsed": false
   },
   "outputs": [
    {
     "name": "stdout",
     "output_type": "stream",
     "text": [
      "<!DOCTYPE html>\n",
      "<html class=\"no-js\">\n",
      " <head>\n",
      "  <title>\n",
      "   SF bay area cars &amp; trucks - by owner \"toyota+camry\" - craigslist\n",
      "  </title>\n",
      "  <meta content='SF bay area cars &amp; trucks - by owner \"toyota+camry\" - craigslist' name=\"description\"/>\n",
      "  <meta content=\"IE=Edge\" http-equiv=\"X-UA-Compatible\"/>\n",
      "  <link href=\"https://sfbay.craigslist.org/search/cto\" rel=\"canonical\"/>\n",
      "  <link href=\"https://sfbay.craigslist.org/search/cto?format=rss&amp;hasPic=1&amp;max_auto_year=2018&amp;min_auto_year=1995&amp;query=toyota%2Bcamry\" rel=\"alternate\" title='RSS feed for craigslist | SF bay area cars &amp; trucks - by owner \"toyota+camry\" - craigslist ' type=\"application/rss+xml\"/>\n",
      "  <link href=\"https://sfbay.craigslist.org/search/cto?s=120&amp;hasPic=1&amp;max_auto_year=2018&amp;min_auto_year=1995&amp;query=toyota%2Bcamry\" rel=\"next\"/>\n",
      "  <meta content=\"width=device-width,initial-scale=1\" name=\"viewport\"/>\n",
      "  <link href=\"//www.craigslist.org/styles/cl.css?v=d76fe4376346bd1b2503fb10181051a7\" media=\"all\"\n"
     ]
    }
   ],
   "source": [
    "from bs4 import BeautifulSoup\n",
    "soup = BeautifulSoup(response.text)\n",
    "print soup.prettify()[:1000]"
   ]
  },
  {
   "cell_type": "code",
   "execution_count": 84,
   "metadata": {
    "collapsed": true
   },
   "outputs": [],
   "source": [
    "parent = soup.select('p.result-info')"
   ]
  },
  {
   "cell_type": "code",
   "execution_count": 86,
   "metadata": {
    "collapsed": false
   },
   "outputs": [
    {
     "name": "stdout",
     "output_type": "stream",
     "text": [
      "120\n",
      "<p class=\"result-info\">\n",
      "<span class=\"icon icon-star\" role=\"button\">\n",
      "<span class=\"screen-reader-text\">favorite this post</span>\n",
      "</span>\n",
      "<time class=\"result-date\" datetime=\"2017-06-25 11:33\" title=\"Sun 25 Jun 11:33:15 AM\">Jun 25</time>\n",
      "<a class=\"result-title hdrlnk\" data-id=\"6188935757\" href=\"/nby/cto/6188935757.html\">TOYOTA CAMRY LE 2001 159K MILES 4 Cylinder, 30 MPG</a>\n",
      "<span class=\"result-meta\">\n",
      "<span class=\"result-price\">$3350</span>\n",
      "<span class=\"result-hood\"> (Beautiful Camry)</span>\n",
      "<span class=\"result-tags\">\n",
      "                    pic\n",
      "                    <span class=\"maptag\" data-pid=\"6188935757\">map</span>\n",
      "</span>\n",
      "<span class=\"banish icon icon-trash\" role=\"button\">\n",
      "<span class=\"screen-reader-text\">hide this posting</span>\n",
      "</span>\n",
      "<span aria-hidden=\"true\" class=\"unbanish icon icon-trash red\" role=\"button\"></span>\n",
      "<a class=\"restore-link\" href=\"#\">\n",
      "<span class=\"restore-narrow-text\">restore</span>\n",
      "<span class=\"restore-wide-text\">restore this posting</span>\n",
      "</a>\n",
      "</span>\n",
      "</p>\n"
     ]
    }
   ],
   "source": [
    "print len(parent)\n",
    "print parent[0]"
   ]
  },
  {
   "cell_type": "code",
   "execution_count": 87,
   "metadata": {
    "collapsed": true
   },
   "outputs": [],
   "source": [
    "firsta = parent[0]"
   ]
  },
  {
   "cell_type": "code",
   "execution_count": 88,
   "metadata": {
    "collapsed": false
   },
   "outputs": [
    {
     "name": "stdout",
     "output_type": "stream",
     "text": [
      "1\n",
      "[<time class=\"result-date\" datetime=\"2017-06-25 11:33\" title=\"Sun 25 Jun 11:33:15 AM\">Jun 25</time>]\n",
      "2017-06-25 11:33\n",
      "Sun 25 Jun 11:33:15 AM\n"
     ]
    }
   ],
   "source": [
    "timea = firsta.select('time.result-date')\n",
    "print len(timea)\n",
    "print timea\n",
    "print timea[0]['datetime'] #we will use this\n",
    "print timea[0]['title']"
   ]
  },
  {
   "cell_type": "code",
   "execution_count": 89,
   "metadata": {
    "collapsed": false
   },
   "outputs": [
    {
     "name": "stdout",
     "output_type": "stream",
     "text": [
      "1\n",
      "[<a class=\"result-title hdrlnk\" data-id=\"6188935757\" href=\"/nby/cto/6188935757.html\">TOYOTA CAMRY LE 2001 159K MILES 4 Cylinder, 30 MPG</a>]\n",
      "TOYOTA CAMRY LE 2001 159K MILES 4 Cylinder, 30 MPG\n",
      "/nby/cto/6188935757.html\n"
     ]
    }
   ],
   "source": [
    "titlea = firsta.select('a.result-title.hdrlnk')\n",
    "print len(titlea)\n",
    "print titlea\n",
    "print titlea[0].text\n",
    "print titlea[0]['href']"
   ]
  },
  {
   "cell_type": "code",
   "execution_count": 90,
   "metadata": {
    "collapsed": false
   },
   "outputs": [
    {
     "name": "stdout",
     "output_type": "stream",
     "text": [
      "1\n",
      "$3350\n"
     ]
    }
   ],
   "source": [
    "pricea = firsta.select('span.result-meta span.result-price')\n",
    "print len(pricea)\n",
    "print pricea[0].text\n",
    "\n",
    "#hooda = firsta.select('span.result-meta span.result-hood')\n",
    "#print len(hooda)\n",
    "#print hooda[0].text\n"
   ]
  },
  {
   "cell_type": "code",
   "execution_count": 91,
   "metadata": {
    "collapsed": false
   },
   "outputs": [
    {
     "name": "stdout",
     "output_type": "stream",
     "text": [
      "120 120\n",
      "['https://sfbay.craigslist.org/nby/cto/6188935757.html', 'https://sfbay.craigslist.org/sby/cto/6188947930.html', 'https://sfbay.craigslist.org/sfc/cto/6159815827.html', 'https://sfbay.craigslist.org/sby/cto/6192946565.html', 'https://sfbay.craigslist.org/nby/cto/6192939271.html']\n",
      "[u'TOYOTA CAMRY LE 2001 159K MILES 4 Cylinder, 30 MPG', u'TOYOTA CAMRY LE 2001 159K MILES 4 Cylinder, 30 MPG', u'Toyota camry', u'Toyota Camry SE 2003', u'1996 Toyota Camry XLE V6']\n",
      "120\n",
      "['2017-06-25 11:33', '2017-06-25 11:32', '2017-06-25 19:09', '2017-06-25 19:03', '2017-06-25 18:54']\n"
     ]
    }
   ],
   "source": [
    "from urlparse import urljoin\n",
    "base_url = 'https://'+ city + '.craigslist.org'\n",
    "\n",
    "titlel = [ firsta.select('a.result-title.hdrlnk')[0] for firsta in parent ]\n",
    "urls = [ urljoin(base_url, t['href']) for t in titlel ]\n",
    "titles = [ t.text for t in titlel ]\n",
    "pids = [ t['data-id'] for t in titlel ]\n",
    "print len(urls), len(titles)\n",
    "print urls[:5]\n",
    "print titles[:5]\n",
    "\n",
    "timel = [ firsta.select('time.result-date')[0] for firsta in parent ]\n",
    "times = [ t['datetime'] for t in timel ]\n",
    "print len(times)\n",
    "print times[:5]\n"
   ]
  },
  {
   "cell_type": "code",
   "execution_count": 92,
   "metadata": {
    "collapsed": false
   },
   "outputs": [
    {
     "name": "stdout",
     "output_type": "stream",
     "text": [
      "$8000\n",
      "\n",
      "[u'$3350', u'$3350', u'$8000', u'$4100', u'$900', u'$1399', u'$2800', u'$3100', u'$4900', u'$5599', u'$6900', u'$7900', u'$7980', u'$2750', u'$1500', u'$2399', u'$7300', u'$7600', u'$2200', u'$1400', u'$5800', u'$3300', u'$6300', u'$1200', u'$1900', u'$3650', '', u'$9900', u'$1250', u'$3800', u'$4500', u'$8300', u'$6000', u'$7800', u'$457', u'$3999', u'$3350', u'$3500', u'$9500', u'$9500', u'$10500', u'$3500', u'$4500', u'$1900', u'$19500', u'$5900', u'$3350', u'$3500', u'$1800', u'$9995']\n",
      "120\n"
     ]
    }
   ],
   "source": [
    "firsta = parent[2]\n",
    "p = firsta.select('span.result-meta span.result-price')[0]\n",
    "print p.text\n",
    "print\n",
    "\n",
    "#pricel = [ firsta.select('span.result-meta span.result-price')[0] for firsta in parent ]\n",
    "#prices = [ t.text for t in pricel ]\n",
    "#print len(prices)\n",
    "#print prices[:5]\n",
    "\n",
    "# the problem with meta price is that some of the price tags are missing from the search result\n",
    "# although if it exist, the CSS select works fine. Those without price will be deleted.\n",
    "prices = []\n",
    "for firsta in parent:\n",
    "    p = firsta.select('span.result-meta span.result-price')\n",
    "    if len(p) == 0:\n",
    "        prices.append('')\n",
    "    else:\n",
    "        prices.append(p[0].text)\n",
    "\n",
    "print prices[:50]\n",
    "print len(prices)\n"
   ]
  },
  {
   "cell_type": "code",
   "execution_count": 60,
   "metadata": {
    "collapsed": false
   },
   "outputs": [
    {
     "name": "stdout",
     "output_type": "stream",
     "text": [
      "[(1, 4), (2, 5), (3, 6)]\n",
      "[(1, 2, 3), (4, 5, 6)]\n",
      "[[1, 2, 3], [4, 5, 6]]\n",
      "\n",
      "(2, 3)\n",
      "(5, 6)\n",
      "\n",
      "(2, 3)\n",
      "(5, 6)\n",
      "[2, 3]\n",
      "[5, 6]\n",
      "\n",
      "[2, 3]\n",
      "[5, 6]\n",
      "\n"
     ]
    }
   ],
   "source": [
    "# test filter out rows when element in one list not satisfy condition\n",
    "a1 = [1,2,3]\n",
    "a2 = [4,5,6]\n",
    "b = zip(a1, a2)\n",
    "print zip(a1, a2)\n",
    "print zip(*b) #unzip the transverse of zip to a list of tuples\n",
    "print [list(t) for t in zip(*b)] #unzip to converted list of lists\n",
    "print\n",
    "\n",
    "#method 1, works fine for two lists\n",
    "[a1,a2] = zip(*[(x, y) for x, y in zip(a1, a2) if x > 1]) # or a1,a2=\n",
    "print a1\n",
    "print a2\n",
    "print\n",
    "\n",
    "#method 2, works great for multiple lists\n",
    "a1, a2 = zip(*filter(lambda z: z[0]>1, zip(a1,a2)))\n",
    "print a1\n",
    "print a2\n",
    "print list(a1)\n",
    "print list(a2)\n",
    "print \n",
    "\n",
    "#method 3 (add convert to list based on method 2)\n",
    "a1, a2 = map(lambda x: list(x), zip(*filter(lambda z: z[0] > 1, zip(a1, a2))))\n",
    "print a1\n",
    "print a2\n",
    "print"
   ]
  },
  {
   "cell_type": "code",
   "execution_count": 93,
   "metadata": {
    "collapsed": false
   },
   "outputs": [
    {
     "name": "stdout",
     "output_type": "stream",
     "text": [
      "120 120 120 120\n",
      "['6188935757', '6188947930', '6159815827', '6192946565', '6192939271', '6171392756', '6192918611', '6192916301', '6192889730', '6189870156']\n",
      "116 116 116 116\n"
     ]
    }
   ],
   "source": [
    "print len(urls), len(titles), len(times), len(prices)\n",
    "prices, pids, urls, titles, times = map(lambda x: list(x), \\\n",
    "            zip(*filter(lambda z: z[0] != '', zip(prices, pids, urls, titles, times))))\n",
    "print pids[:10]\n",
    "print len(urls), len(titles), len(times), len(prices)"
   ]
  },
  {
   "cell_type": "code",
   "execution_count": 261,
   "metadata": {
    "collapsed": false
   },
   "outputs": [
    {
     "name": "stdout",
     "output_type": "stream",
     "text": [
      "https://sfbay.craigslist.org/nby/cto/6194176116.html\n"
     ]
    }
   ],
   "source": [
    "def get_search_titles(response):\n",
    "    soup = BeautifulSoup(response.text, \"lxml\")\n",
    "    parent = soup.select('p.result-info')\n",
    "    base_url = 'https://'+ city + '.craigslist.org'\n",
    "    titlel = [ a.select('a.result-title.hdrlnk')[0] for a in parent ]\n",
    "    urls = [ urljoin(base_url, t['href']) for t in titlel ]\n",
    "    pids = [ t['data-id'] for t in titlel ]\n",
    "    titles = [ t.text for t in titlel ]\n",
    "    timel = [ a.select('time.result-date')[0] for a in parent ]\n",
    "    times = [ t['datetime'] for t in timel ]\n",
    "    prices = []\n",
    "    for firsta in parent:\n",
    "        p = firsta.select('span.result-meta span.result-price')\n",
    "        if len(p) == 0:\n",
    "            prices.append('')\n",
    "        else:\n",
    "            dollar = p[0].text\n",
    "            dollar = int(dollar.strip('$'))\n",
    "            prices.append(dollar)\n",
    "    prices, pids, urls, titles, times = map(lambda x: list(x), \\\n",
    "            zip(*filter(lambda z: z[0] != '', zip(prices, pids, urls, titles, times))))\n",
    "    return zip(prices, pids, urls, times, titles)\n",
    "\n",
    "print get_search_titles(response)[0][2]"
   ]
  },
  {
   "cell_type": "code",
   "execution_count": 140,
   "metadata": {
    "collapsed": true
   },
   "outputs": [],
   "source": [
    "# result page inspection\n",
    "url = 'https://sfbay.craigslist.org/nby/cto/6188935757.html'\n",
    "page = requests.get(url) \n",
    "soup = BeautifulSoup(page.text, \"lxml\")\n"
   ]
  },
  {
   "cell_type": "code",
   "execution_count": 229,
   "metadata": {
    "collapsed": false
   },
   "outputs": [
    {
     "name": "stdout",
     "output_type": "stream",
     "text": [
      "15\n",
      "https://images.craigslist.org/00Z0Z_j2ZX6lVR7S3_600x450.jpg\n",
      "toyota camry le 2001 159k miles 4 cylinder, 30 mpg\n",
      "2\n",
      "2001 toyota camry\n",
      "\n",
      "[<span>cylinders: <b>4 cylinders</b></span>, <span>fuel: <b>gas</b></span>, <span>title status: <b>clean</b></span>, <span>transmission: <b>automatic</b></span>]\n"
     ]
    },
    {
     "data": {
      "text/plain": [
       "'su hood\\n--prime eria duci\\n@$%&\\n88996654'"
      ]
     },
     "execution_count": 229,
     "metadata": {},
     "output_type": "execute_result"
    }
   ],
   "source": [
    "#----------TEST FOR analyze_page() function--------------\n",
    "\n",
    "#print soup.prettify()[:100]\n",
    "img = soup.select('img')\n",
    "print len(img)\n",
    "print img[0]['src']\n",
    "imglink = img[0]['src']\n",
    "\n",
    "def filter_irregular_char(mystring) :\n",
    "    ss = re.sub(r'\\n+', '\\n', mystring).strip()\n",
    "    ss = ss.replace('\"', '')\n",
    "    ss = ss.replace(\"'\", '')\n",
    "    ss = re.sub(r'[^A-Za-z0-9 \\n\\.\\-,;:@$!&%\\(\\)]+', '', ss)\n",
    "    ss = '\\n'.join([m.strip() for m in ss.split('\\n')])\n",
    "    #'\\n'.join(ss.split('\\n'))\n",
    "    ss =  ss.lower()\n",
    "    return ss\n",
    "\n",
    "body = soup.find('section', attrs={'id': 'postingbody'})\n",
    "#print body.text[:200]\n",
    "#print body.attrs\n",
    "#print '\\n'.join(body.text.split('\\n'))\n",
    "message = filter_irregular_char(body.text)\n",
    "message = '\\n'.join(message.split('\\n')[1:]) #remove 'QR code ...' line\n",
    "\n",
    "#print message\n",
    "\n",
    "title = soup.find('span', attrs={'id': 'titletextonly'})\n",
    "title = filter_irregular_char(title.text)\n",
    "print title\n",
    "\n",
    "attr = soup.select('p.attrgroup')\n",
    "print len(attr)\n",
    "print attr[0].select('span')[0].text\n",
    "print\n",
    "attrl = attr[1].select('span')\n",
    "print attr[1].select('span')\n",
    "\n",
    "attributes = '\\n'.join([ at.text for at in attrl ])\n",
    "#print '\\n'.join(attrl)\n",
    "attributes\n",
    "message\n",
    "\n",
    "test = 'Su hood  \\n--\"prime\" \\'eria\\' duci  \\n @#$%^&*\\n88996654'\n",
    "#print filter_irregular_char(test)\n",
    "t = filter_irregular_char(test)\n",
    "t\n",
    "\n",
    "#print test.split('\\n')#strip()\n",
    "#test=test.replace('\"', '')\n",
    "#test=test.replace(\"'\", '')\n",
    "#new_test = '\\n'.join([s.strip() for s in test.split('\\n')])\n",
    "#new_test"
   ]
  },
  {
   "cell_type": "code",
   "execution_count": 341,
   "metadata": {
    "collapsed": false
   },
   "outputs": [
    {
     "name": "stdout",
     "output_type": "stream",
     "text": [
      "toyota camry 2000\n",
      "condition: excellent#cylinders: 6 cylinders#drive: fwd#fuel: gas#paint color: silver#size: compact#title status: clean#transmission: automatic#type: sedan\n",
      "leather seating and automatic. excellent  great; reliable 2000 toyota camry! this fantastic toyota is one of the most sought after used vehicles on the market because it never lets owners down. it scored the top rating in the iihs frontal offset test.#camry le; 4d sedan; 2.2l i4 16v; 4-speed automatic; fwd; cashmere beige metallic; and oak w/cloth seat trim.#current with dmv registration; pink slip in hand/registration.  serious inquiries only pls.#thanks\n"
     ]
    }
   ],
   "source": [
    "def filter_irregular_char(mystring) :\n",
    "    ss = re.sub(r'\\n+', '\\n', mystring).strip()\n",
    "    ss = ss.replace('\"', '')\n",
    "    ss = ss.replace(\"'\", '')\n",
    "    ss = ss.replace(',', ';')\n",
    "    ss = re.sub(r'[^A-Za-z0-9 \\n\\.\\/\\-;:@\\?$!&%\\(\\)]+', '', ss)\n",
    "    ss = '#'.join([m.strip() for m in ss.split('\\n')])\n",
    "    #'\\n'.join(ss.split('\\n'))\n",
    "    ss =  ss.lower()\n",
    "    return ss\n",
    "\n",
    "def analyze_page(page):\n",
    "    soup = BeautifulSoup(page.text, \"lxml\")\n",
    "    img = soup.select('img')\n",
    "    if len(img)>0:\n",
    "        imglink = img[0]['src']\n",
    "    else:\n",
    "        imglink = ''\n",
    "\n",
    "    body = soup.find('section', attrs={'id': 'postingbody'})\n",
    "    message = filter_irregular_char(body.text)\n",
    "    message = '#'.join(message.split('#')[1:]) #remove 'QR code ...' line\n",
    "\n",
    "    title = soup.find('span', attrs={'id': 'titletextonly'})\n",
    "    title = filter_irregular_char(title.text)\n",
    "\n",
    "    attr = soup.select('p.attrgroup')\n",
    "    attr_model = attr[0].select('span')[0].text\n",
    "\n",
    "    attrlist = attr[1].select('span')\n",
    "    #print attr[1].select('span')\n",
    "    attributes = '#'.join([ at.text for at in attrlist ])\n",
    "    return title, imglink, message, attr_model, attributes\n",
    "\n",
    "\n",
    "title, imglink, message, attr_model, attributes = analyze_page(page)\n",
    "\n",
    "print title\n",
    "print attributes\n",
    "print message\n"
   ]
  },
  {
   "cell_type": "code",
   "execution_count": 359,
   "metadata": {
    "collapsed": false
   },
   "outputs": [
    {
     "name": "stdout",
     "output_type": "stream",
     "text": [
      "        Year = 2000 Skip this entry\n"
     ]
    }
   ],
   "source": [
    "\n",
    "def get_year(title, attr_model):\n",
    "    PATTERN_YEAR = r'(?:^| )(199\\d{1}|20[0-1][0-9]) '\n",
    "    mm = re.search(PATTERN_YEAR , title)\n",
    "    if mm :\n",
    "        year = mm.group(1)\n",
    "    else :\n",
    "        mm = re.search(PATTERN_YEAR , attr_model)\n",
    "        if mm :\n",
    "            year = mm.group(1)\n",
    "        else:\n",
    "            print 'Year not found'\n",
    "            return -1\n",
    "    print '        Year =', year,\n",
    "    return year\n",
    "\n",
    "   \n",
    "    \n",
    "def get_miles(attributes, title, message):\n",
    "    PATTERN_ODOMETER = r'odometer: (\\d{4,6})'\n",
    "    PATTERN_MILES = r'(\\d{4,6}|\\d{1,3}\\;*\\w{3}|\\d{1,3}\\s*k)\\s*[orignal]*\\s*mil+es*'\n",
    "    PATTERN_MILEAGE = r'mileage\\s*\\:*\\s*(\\d{4,6}|\\d{1,3}\\,*\\w{3}|\\d{1,3}\\s*k)'\n",
    "    \n",
    "    mm = re.search(PATTERN_ODOMETER , attributes)\n",
    "    if mm :\n",
    "        mile = mm.group(1)\n",
    "    else:\n",
    "        mm = re.search(PATTERN_MILES , title)\n",
    "        if mm :\n",
    "            mile = mm.group(1)\n",
    "        else:\n",
    "            mm = re.search(PATTERN_MILES , message)\n",
    "            if mm :\n",
    "                mile = mm.group(1)\n",
    "            else:\n",
    "                mm = re.search(PATTERN_MILEAGE , title)\n",
    "                if mm :\n",
    "                    mile = mm.group(1)\n",
    "                else:\n",
    "                    mm = re.search(PATTERN_MILEAGE , message)\n",
    "                    if mm :\n",
    "                        mile = mm.group(1)   \n",
    "                    else :\n",
    "                        return -1\n",
    "                \n",
    "    mile = mile.replace(' ' , '')\n",
    "    mile = mile.replace(';' , '')\n",
    "    mile = mile.replace('x' , '0')\n",
    "    mile = mile.replace('o' , '0')\n",
    "    mile = mile.replace('k' , '000')\n",
    "    mile = re.sub(r'[^0-9]+', '', mile)\n",
    "    print '  Miles =', mile,\n",
    "    return mile\n",
    "\n",
    "\n",
    "def get_title_status(attributes):\n",
    "    PATTERN = r'title status:\\s*(\\w+)\\s*\\n'\n",
    "    mm = re.search(PATTERN, attributes)\n",
    "    if mm :\n",
    "        title = mm.group(1)\n",
    "        return title\n",
    "    else :\n",
    "        return None\n",
    "\n",
    "                \n",
    "year = get_year(title, attr_model) \n",
    "miles = get_miles(attributes, title, message)\n",
    "title_status = get_title_status(attributes)\n",
    "\n",
    "if year == -1 or miles == -1 or title_status == 'salvage': \n",
    "    #skip this entry\n",
    "    print 'Skip this entry'\n",
    "\n",
    "\n",
    "\n",
    "        "
   ]
  },
  {
   "cell_type": "code",
   "execution_count": 138,
   "metadata": {
    "collapsed": false
   },
   "outputs": [
    {
     "name": "stdout",
     "output_type": "stream",
     "text": [
      "Total # of results =  900\n",
      "# of Next Pages =  7\n",
      "/search/cto?s=120&hasPic=1&max_auto_year=2018&min_auto_year=1995&query=toyota%2Bcamry\n",
      "8\n"
     ]
    },
    {
     "data": {
      "text/plain": [
       "[u'https://sfbay.craigslist.org/search/cto?query=toyota%2Bcamry&min_auto_year=1995&hasPic=1&max_auto_year=2018',\n",
       " 'https://sfbay.craigslist.org/search/cto?s=120&hasPic=1&max_auto_year=2018&min_auto_year=1995&query=toyota%2Bcamry']"
      ]
     },
     "execution_count": 138,
     "metadata": {},
     "output_type": "execute_result"
    }
   ],
   "source": [
    "import re\n",
    "def get_search_page_urls(response):\n",
    "    base_url = 'https://'+ city + '.craigslist.org'\n",
    "    soup = BeautifulSoup(response.text, \"lxml\")\n",
    "    \n",
    "    num_results = soup.select('span.button.pagenum span.totalcount')[0]\n",
    "    total = int(num_results.text)\n",
    "    print 'Total # of results = ', total\n",
    "    num_pages = total/120\n",
    "    \n",
    "    print \"# of Next Pages = \", num_pages\n",
    "    #print type(total)\n",
    "    nextpage = soup.select('span.buttons a.button.next')[0]\n",
    "    nexthref = nextpage['href']\n",
    "    print nexthref\n",
    "    \n",
    "    #print response.url\n",
    "    urls = [response.url,]\n",
    "    \n",
    "    for s in range(1, num_pages+1):\n",
    "        start = s * 120\n",
    "        nhref = re.sub(r'(\\?s=\\d+&)', '?s=%d&' % start , nexthref)\n",
    "        urls.append(urljoin(base_url, nhref)) \n",
    "    return urls\n",
    "    \n",
    "    \n",
    "urls = get_search_page_urls(response)\n",
    "\n",
    "print len(urls)\n",
    "urls[:2]"
   ]
  },
  {
   "cell_type": "code",
   "execution_count": 126,
   "metadata": {
    "collapsed": false
   },
   "outputs": [
    {
     "name": "stdout",
     "output_type": "stream",
     "text": [
      "/search/cto?s=240&hasPic=1&max_auto_year=2018&min_auto_year=1995&query=toyota%2Bcamry\n"
     ]
    }
   ],
   "source": [
    "nexthref = '/search/cto?s=120&hasPic=1&max_auto_year=2018&min_auto_year=1995&query=toyota%2Bcamry'\n",
    "start = 2*120\n",
    "sstr = str(start)\n",
    "nhref = re.sub(r'(\\?s=\\d+&)', '?s=%s&' % sstr , nexthref)\n",
    "print nhref"
   ]
  },
  {
   "cell_type": "code",
   "execution_count": 260,
   "metadata": {
    "collapsed": false
   },
   "outputs": [
    {
     "name": "stdout",
     "output_type": "stream",
     "text": [
      "True\n",
      "False\n"
     ]
    }
   ],
   "source": [
    "from datetime import datetime\n",
    "mydate = '2017-04-28 00:00'\n",
    "\n",
    "def newer_than_date(date_string, cutoff_string='2017-01-01 00:00'):\n",
    "    cutoff = datetime.strptime(cutoff_string, '%Y-%m-%d %H:%M')\n",
    "    dt     = datetime.strptime(date_string,   '%Y-%m-%d %H:%M') \n",
    "    return dt > cutoff\n",
    "\n",
    "print newer_than_date(mydate)\n",
    "print newer_than_date(mydate, '2017-05-01 00:00')"
   ]
  },
  {
   "cell_type": "code",
   "execution_count": 136,
   "metadata": {
    "collapsed": false
   },
   "outputs": [],
   "source": [
    "#from requests_futures.sessions import FuturesSession\n",
    "#session = FuturesSession(max_workers=5)\n",
    "#futures = [session.get(url) for url in urls ]\n",
    "\n",
    "#all_titles = [get_search_titles(future.result()) for future in futures ]"
   ]
  },
  {
   "cell_type": "code",
   "execution_count": 351,
   "metadata": {
    "collapsed": false
   },
   "outputs": [],
   "source": [
    "def get_all_pages(csvfilename, URLs):\n",
    "    \n",
    "    wrongcount = 0\n",
    "    maxwrong = 10\n",
    "    count = 0\n",
    "    \n",
    "    for myurl in URLs: \n",
    "    \n",
    "        pidl =[]\n",
    "        posttimel = []\n",
    "        cityl = []\n",
    "        statel = []\n",
    "        makel = []\n",
    "        modell = []\n",
    "        pricel = []\n",
    "        yearl = []\n",
    "        milesl = []\n",
    "        urll = []\n",
    "        titlel = []\n",
    "        attrl = []\n",
    "        imglinkl = []\n",
    "        messagel = []\n",
    "\n",
    "        print 'Now analyzing search result page: ', myurl\n",
    "        \n",
    "        response = requests.get(myurl, headers=head)\n",
    "\n",
    "        results_page = get_search_titles(response) #list of (prices, pids, urls, times, titles)\n",
    "    \n",
    "        for result in results_page:\n",
    "            print result\n",
    "            \n",
    "            if newer_than_date(result[3],filterdate) :\n",
    "                pass\n",
    "            else:\n",
    "                wrongcount += 1\n",
    "                if wrongcount > maxwrong:\n",
    "                    print 'Max wrong reached, break'\n",
    "                    break\n",
    "                \n",
    "            page_link = result[2] #urls\n",
    "            page = requests.get(page_link, headers=head)\n",
    "            soup = BeautifulSoup(page.text, \"lxml\")\n",
    "            \n",
    "            mytitle, myimglink, mymessage, myattr_model, myattributes = analyze_page(page)\n",
    "\n",
    "            myyear = get_year(mytitle, myattr_model) \n",
    "            mymiles = get_miles(myattributes, mytitle, mymessage)\n",
    "            title_status = get_title_status(myattributes)\n",
    "\n",
    "            if myyear == -1 or mymiles == -1 or title_status == 'salvage' \\\n",
    "                    or make not in mytitle or model not in mytitle:  \n",
    "                #skip this entry\n",
    "                print 'Skip this entry'\n",
    "            else: \n",
    "                print '  Title =', mytitle\n",
    "                # append data\n",
    "                pidl.append(result[1])\n",
    "                posttimel.append(result[3])\n",
    "                cityl.append(city)\n",
    "                statel.append(state)\n",
    "                makel.append(make)\n",
    "                modell.append(model)\n",
    "                pricel.append(result[0])\n",
    "                yearl.append(myyear)          \n",
    "                milesl.append(mymiles)\n",
    "                urll.append(result[2])\n",
    "                titlel.append(mytitle)\n",
    "                attrl.append(myattributes)\n",
    "                imglinkl.append(myimglink)\n",
    "                messagel.append(mymessage)\n",
    "            y = random.uniform(2,6)\n",
    "            time.sleep(y)\n",
    "            \n",
    "                \n",
    "        # save data of this page\n",
    "        rows = len(pid)\n",
    "        print \"  Add # of rows = \", rows\n",
    "\n",
    "        alist = []\n",
    "\n",
    "        for i in range(rows):\n",
    "            alist.append([pid[i], posttime[i], city[i], state[i], make[i], model[i], price[i], \\\n",
    "                          year[i], miles[i], url[i], title[i], attr[i], imglink[i], message[i] ])\n",
    "\n",
    "        with open(csvfilename, \"a\") as csvfile:\n",
    "            writer = csv.writer(csvfile)\n",
    "            writer.writerows(alist)\n",
    "\n",
    "        \n",
    "        print 'Page #', count, 'finished'\n",
    "        if count >= pagemax:\n",
    "            print 'Pagemax reached, finish.'\n",
    "            break\n",
    "        count += 1\n",
    "        y = random.uniform(10,20)\n",
    "        time.sleep(y)\n",
    "    return 0\n",
    "#get_all_pages('test.test', urls)"
   ]
  },
  {
   "cell_type": "code",
   "execution_count": 337,
   "metadata": {
    "collapsed": false
   },
   "outputs": [
    {
     "data": {
      "text/plain": [
       "[u'https://sfbay.craigslist.org/search/cto?s=240&hasPic=1&max_auto_year=2018&min_auto_year=1995&query=toyota%2Bcamry&query=toyota%2Bcamry&min_auto_year=1995&hasPic=1&max_auto_year=2018',\n",
       " 'https://sfbay.craigslist.org/search/cto?s=120&hasPic=1&hasPic=1&max_auto_year=2018&max_auto_year=2018&min_auto_year=1995&min_auto_year=1995&query=toyota%2Bcamry&query=toyota%2Bcamry',\n",
       " 'https://sfbay.craigslist.org/search/cto?s=240&hasPic=1&hasPic=1&max_auto_year=2018&max_auto_year=2018&min_auto_year=1995&min_auto_year=1995&query=toyota%2Bcamry&query=toyota%2Bcamry',\n",
       " 'https://sfbay.craigslist.org/search/cto?s=360&hasPic=1&hasPic=1&max_auto_year=2018&max_auto_year=2018&min_auto_year=1995&min_auto_year=1995&query=toyota%2Bcamry&query=toyota%2Bcamry',\n",
       " 'https://sfbay.craigslist.org/search/cto?s=480&hasPic=1&hasPic=1&max_auto_year=2018&max_auto_year=2018&min_auto_year=1995&min_auto_year=1995&query=toyota%2Bcamry&query=toyota%2Bcamry',\n",
       " 'https://sfbay.craigslist.org/search/cto?s=600&hasPic=1&hasPic=1&max_auto_year=2018&max_auto_year=2018&min_auto_year=1995&min_auto_year=1995&query=toyota%2Bcamry&query=toyota%2Bcamry',\n",
       " 'https://sfbay.craigslist.org/search/cto?s=720&hasPic=1&hasPic=1&max_auto_year=2018&max_auto_year=2018&min_auto_year=1995&min_auto_year=1995&query=toyota%2Bcamry&query=toyota%2Bcamry',\n",
       " 'https://sfbay.craigslist.org/search/cto?s=840&hasPic=1&hasPic=1&max_auto_year=2018&max_auto_year=2018&min_auto_year=1995&min_auto_year=1995&query=toyota%2Bcamry&query=toyota%2Bcamry']"
      ]
     },
     "execution_count": 337,
     "metadata": {},
     "output_type": "execute_result"
    }
   ],
   "source": [
    "urls"
   ]
  },
  {
   "cell_type": "code",
   "execution_count": 266,
   "metadata": {
    "collapsed": false
   },
   "outputs": [
    {
     "name": "stdout",
     "output_type": "stream",
     "text": [
      "ok\n"
     ]
    }
   ],
   "source": [
    "titlea = 'toyota camry 2012 56k miles'\n",
    "\n",
    "if model not in titlea or model not in attr_model:\n",
    "    print 'error'\n",
    "else:\n",
    "    print 'ok'"
   ]
  },
  {
   "cell_type": "code",
   "execution_count": 338,
   "metadata": {
    "collapsed": false
   },
   "outputs": [
    {
     "name": "stdout",
     "output_type": "stream",
     "text": [
      "https://sfbay.craigslist.org/search/cto?s=240&hasPic=1&max_auto_year=2018&min_auto_year=1995&query=toyota%2Bcamry&query=toyota%2Bcamry&min_auto_year=1995&hasPic=1&max_auto_year=2018\n",
      "https://sfbay.craigslist.org/search/cto?s=120&hasPic=1&hasPic=1&max_auto_year=2018&max_auto_year=2018&min_auto_year=1995&min_auto_year=1995&query=toyota%2Bcamry&query=toyota%2Bcamry\n",
      "https://sfbay.craigslist.org/search/cto?s=240&hasPic=1&hasPic=1&max_auto_year=2018&max_auto_year=2018&min_auto_year=1995&min_auto_year=1995&query=toyota%2Bcamry&query=toyota%2Bcamry\n",
      "https://sfbay.craigslist.org/search/cto?s=360&hasPic=1&hasPic=1&max_auto_year=2018&max_auto_year=2018&min_auto_year=1995&min_auto_year=1995&query=toyota%2Bcamry&query=toyota%2Bcamry\n",
      "https://sfbay.craigslist.org/search/cto?s=480&hasPic=1&hasPic=1&max_auto_year=2018&max_auto_year=2018&min_auto_year=1995&min_auto_year=1995&query=toyota%2Bcamry&query=toyota%2Bcamry\n",
      "https://sfbay.craigslist.org/search/cto?s=600&hasPic=1&hasPic=1&max_auto_year=2018&max_auto_year=2018&min_auto_year=1995&min_auto_year=1995&query=toyota%2Bcamry&query=toyota%2Bcamry\n",
      "https://sfbay.craigslist.org/search/cto?s=720&hasPic=1&hasPic=1&max_auto_year=2018&max_auto_year=2018&min_auto_year=1995&min_auto_year=1995&query=toyota%2Bcamry&query=toyota%2Bcamry\n",
      "https://sfbay.craigslist.org/search/cto?s=840&hasPic=1&hasPic=1&max_auto_year=2018&max_auto_year=2018&min_auto_year=1995&min_auto_year=1995&query=toyota%2Bcamry&query=toyota%2Bcamry\n"
     ]
    }
   ],
   "source": [
    "for url in urls:\n",
    "    print url"
   ]
  },
  {
   "cell_type": "code",
   "execution_count": 280,
   "metadata": {
    "collapsed": false
   },
   "outputs": [
    {
     "name": "stdout",
     "output_type": "stream",
     "text": [
      "https://sfbay.craigslist.org/search/cto?s=240&hasPic=1&max_auto_year=2018&min_auto_year=1995&query=toyota%2Bcamry\n",
      "<type 'str'>\n",
      "[u'https://sfbay.craigslist.org/search/cto?query=toyota%2Bcamry&min_auto_year=1995&hasPic=1&max_auto_year=2018', 'https://sfbay.craigslist.org/search/cto?s=120&hasPic=1&max_auto_year=2018&min_auto_year=1995&query=toyota%2Bcamry']\n"
     ]
    }
   ],
   "source": [
    "url = urls[2]\n",
    "print url\n",
    "print type(url)\n",
    "print urls[:2]"
   ]
  },
  {
   "cell_type": "code",
   "execution_count": 285,
   "metadata": {
    "collapsed": false
   },
   "outputs": [
    {
     "data": {
      "text/plain": [
       "u'\\ufeff<!DOCTYPE html>\\n\\n<html class=\"no-js\"><head>\\n    <title>SF bay area cars &amp; trucks - by owner &quot;toyota+camry&quot; - craigslist</title>\\n\\n    <meta name=\"description\" content=\"SF bay area cars &amp; trucks - by owner &quot;toyota+camry&quot; - craigslist\">\\n    <meta http-equiv=\"X-UA-Compatible\" content=\"IE=Edge\"/>\\n    <link rel=\"canonical\" href=\"https://sfbay.craigslist.org/search/cto?s=240\">\\n    <link rel=\"alternate\" type=\"application/rss+xml\" href=\"https://sfbay.craigslist.org/search/cto?format=rss&amp;hasPic=1&amp;hasPic=1&amp;max_auto_year=2018&amp;max_auto_year=2018&amp;min_auto_year=1995&amp;min_auto_year=1995&amp;query=toyota%2Bcamry&amp;query=toyota%2Bcamry&amp;s=240\" title=\"RSS feed for craigslist | SF bay area cars &amp; trucks - by owner &quot;toyota+camry&quot; - craigslist \">\\n    <link rel=\"prev\" href=\"https://sfbay.craigslist.org/search/cto?s=120&amp;hasPic=1&amp;hasPic=1&amp;max_auto_year=2018&amp;max_auto_year=2018&amp;min_auto_year=1995&amp;min_auto_year=1995&amp...'"
      ]
     },
     "execution_count": 285,
     "metadata": {},
     "output_type": "execute_result"
    }
   ],
   "source": [
    "user_agent = 'Mozilla/5.0 (Macintosh; Intel Mac OS X 10_12_4) AppleWebKit/537.36 (KHTML, like Gecko) Chrome/58.0.3029.81 Safari/537.36'\n",
    "\n",
    "head = {'User-Agent': user_agent}\n",
    "\n",
    "params={\"query\": make+'+'+model, \"hasPic\": 1, \"min_auto_year\": min_year, \"max_auto_year\": max_year}\n",
    "\n",
    "response = requests.get(url, params, headers=head)\n",
    "response.text[:1000] + \"...\""
   ]
  },
  {
   "cell_type": "code",
   "execution_count": 339,
   "metadata": {
    "collapsed": false
   },
   "outputs": [
    {
     "name": "stdout",
     "output_type": "stream",
     "text": [
      "Total # of results =  893\n",
      "# of Next Pages =  7\n",
      "/search/cto?s=480&hasPic=1&hasPic=1&max_auto_year=2018&max_auto_year=2018&min_auto_year=1995&min_auto_year=1995&query=toyota%2Bcamry&query=toyota%2Bcamry\n"
     ]
    },
    {
     "data": {
      "text/plain": [
       "[u'https://sfbay.craigslist.org/search/cto?s=360&hasPic=1&hasPic=1&max_auto_year=2018&max_auto_year=2018&min_auto_year=1995&min_auto_year=1995&query=toyota%2Bcamry&query=toyota%2Bcamry',\n",
       " 'https://sfbay.craigslist.org/search/cto?s=120&hasPic=1&hasPic=1&max_auto_year=2018&max_auto_year=2018&min_auto_year=1995&min_auto_year=1995&query=toyota%2Bcamry&query=toyota%2Bcamry',\n",
       " 'https://sfbay.craigslist.org/search/cto?s=240&hasPic=1&hasPic=1&max_auto_year=2018&max_auto_year=2018&min_auto_year=1995&min_auto_year=1995&query=toyota%2Bcamry&query=toyota%2Bcamry',\n",
       " 'https://sfbay.craigslist.org/search/cto?s=360&hasPic=1&hasPic=1&max_auto_year=2018&max_auto_year=2018&min_auto_year=1995&min_auto_year=1995&query=toyota%2Bcamry&query=toyota%2Bcamry',\n",
       " 'https://sfbay.craigslist.org/search/cto?s=480&hasPic=1&hasPic=1&max_auto_year=2018&max_auto_year=2018&min_auto_year=1995&min_auto_year=1995&query=toyota%2Bcamry&query=toyota%2Bcamry',\n",
       " 'https://sfbay.craigslist.org/search/cto?s=600&hasPic=1&hasPic=1&max_auto_year=2018&max_auto_year=2018&min_auto_year=1995&min_auto_year=1995&query=toyota%2Bcamry&query=toyota%2Bcamry',\n",
       " 'https://sfbay.craigslist.org/search/cto?s=720&hasPic=1&hasPic=1&max_auto_year=2018&max_auto_year=2018&min_auto_year=1995&min_auto_year=1995&query=toyota%2Bcamry&query=toyota%2Bcamry',\n",
       " 'https://sfbay.craigslist.org/search/cto?s=840&hasPic=1&hasPic=1&max_auto_year=2018&max_auto_year=2018&min_auto_year=1995&min_auto_year=1995&query=toyota%2Bcamry&query=toyota%2Bcamry']"
      ]
     },
     "execution_count": 339,
     "metadata": {},
     "output_type": "execute_result"
    }
   ],
   "source": [
    "urls = get_search_page_urls(response)\n",
    "urls"
   ]
  },
  {
   "cell_type": "code",
   "execution_count": 287,
   "metadata": {
    "collapsed": false
   },
   "outputs": [
    {
     "name": "stdout",
     "output_type": "stream",
     "text": [
      "https://sfbay.craigslist.org/search/cto?s=240&hasPic=1&max_auto_year=2018&min_auto_year=1995&query=toyota%2Bcamry&query=toyota%2Bcamry&min_auto_year=1995&hasPic=1&max_auto_year=2018\n",
      "https://sfbay.craigslist.org/search/cto?s=120&hasPic=1&hasPic=1&max_auto_year=2018&max_auto_year=2018&min_auto_year=1995&min_auto_year=1995&query=toyota%2Bcamry&query=toyota%2Bcamry\n"
     ]
    },
    {
     "data": {
      "text/plain": [
       "0"
      ]
     },
     "execution_count": 287,
     "metadata": {},
     "output_type": "execute_result"
    }
   ],
   "source": [
    "def testf(g,urls):\n",
    "    for l in urls:\n",
    "        print l\n",
    "    return 0\n",
    "\n",
    "testf(6, urls[:2])"
   ]
  },
  {
   "cell_type": "code",
   "execution_count": 303,
   "metadata": {
    "collapsed": false
   },
   "outputs": [
    {
     "name": "stdout",
     "output_type": "stream",
     "text": [
      "Now analyzing search result page:  https://sfbay.craigslist.org/search/cto?s=360&hasPic=1&hasPic=1&max_auto_year=2018&max_auto_year=2018&min_auto_year=1995&min_auto_year=1995&query=toyota%2Bcamry&query=toyota%2Bcamry\n",
      "(800, '6156139215', 'https://sfbay.craigslist.org/sby/cto/6156139215.html', '2017-06-15 17:33', u'1997 toyota camry 4cyl')\n",
      "(2000, '6163245383', 'https://sfbay.craigslist.org/eby/cto/6163245383.html', '2017-06-19 09:13', u'2000 toyota camry')\n",
      "(10500, '6190497921', 'https://sfbay.craigslist.org/sby/cto/6190497921.html', '2017-06-23 23:27', u'2011 Toyota Camry SE 75k $10.5k')\n",
      "(4500, '6190484654', 'https://sfbay.craigslist.org/eby/cto/6190484654.html', '2017-06-23 22:57', u'2000 Toyota Camry LE')\n",
      "(2495, '6179691038', 'https://sfbay.craigslist.org/eby/cto/6179691038.html', '2017-06-23 22:40', u'1998 Toyota camry')\n",
      "(9900, '6190434785', 'https://sfbay.craigslist.org/sfc/cto/6190434785.html', '2017-06-23 21:25', u'2010 TOYOTA CAMRY HYBRID 59K MILES!')\n",
      "(9900, '6167304525', 'https://sfbay.craigslist.org/sby/cto/6167304525.html', '2017-06-23 20:29', u'2014 Toyota Camry SE')\n",
      "(10400, '6169466955', 'https://sfbay.craigslist.org/sby/cto/6169466955.html', '2017-06-23 17:32', u'2014 Toyota Camry SE Silver')\n",
      "(750, '6178096494', 'https://sfbay.craigslist.org/eby/cto/6178096494.html', '2017-06-15 10:29', u'Toyota Camry LE 1995 for sale')\n",
      "(11200, '6182964925', 'https://sfbay.craigslist.org/pen/cto/6182964925.html', '2017-06-18 23:26', u'2012 Toyota Camry LE')\n",
      "(6500, '6172839765', 'https://sfbay.craigslist.org/sby/cto/6172839765.html', '2017-06-23 12:24', u'2007 Toyota Camry XLE')\n",
      "  Add # of rows =  0\n",
      "Page # 0 finished\n",
      "Now analyzing search result page:  https://sfbay.craigslist.org/search/cto?s=480&hasPic=1&hasPic=1&max_auto_year=2018&max_auto_year=2018&min_auto_year=1995&min_auto_year=1995&query=toyota%2Bcamry&query=toyota%2Bcamry\n",
      "(4900, '6141575008', 'https://sfbay.craigslist.org/sby/cto/6141575008.html', '2017-06-09 20:41', u'2009 Toyota Camry SE')\n",
      "  Add # of rows =  0\n",
      "Page # 1 finished\n",
      "Pagemax reached, finish.\n"
     ]
    }
   ],
   "source": [
    "filterdate = '2017-01-01 00:00'\n",
    "pagemax = 1\n",
    "pagecount = 0\n",
    "import csv\n",
    "import math\n",
    "import numpy as np\n",
    "import random\n",
    "import time\n",
    "\n",
    "a = get_all_pages('CAR_PRICE_DATABASE.csv', urls[3:6])"
   ]
  },
  {
   "cell_type": "code",
   "execution_count": 308,
   "metadata": {
    "collapsed": true
   },
   "outputs": [],
   "source": [
    "response = requests.get(urls[3], headers=head)\n",
    "\n",
    "results_page = get_search_titles(response) #list of (prices, pids, urls, times, titles)"
   ]
  },
  {
   "cell_type": "code",
   "execution_count": 324,
   "metadata": {
    "collapsed": false
   },
   "outputs": [
    {
     "name": "stdout",
     "output_type": "stream",
     "text": [
      "(800, '6156139215', 'https://sfbay.craigslist.org/sby/cto/6156139215.html', '2017-06-15 17:33', u'1997 toyota camry 4cyl')\n",
      "Opening: https://sfbay.craigslist.org/sby/cto/6156139215.html\n",
      "Year = 1997\n",
      "Miles = 189000\n",
      "  Title = 1997 toyota camry 4cyl\n",
      "(2000, '6163245383', 'https://sfbay.craigslist.org/eby/cto/6163245383.html', '2017-06-19 09:13', u'2000 toyota camry')\n",
      "Opening: https://sfbay.craigslist.org/eby/cto/6163245383.html\n",
      "Year = 2000\n",
      "Miles = 170000\n",
      "  Title = 2000 toyota camry\n",
      "(10500, '6190497921', 'https://sfbay.craigslist.org/sby/cto/6190497921.html', '2017-06-23 23:27', u'2011 Toyota Camry SE 75k $10.5k')\n",
      "Opening: https://sfbay.craigslist.org/sby/cto/6190497921.html\n",
      "Year = 2011\n",
      "Miles = 75000\n",
      "  Title = 2011 toyota camry se 75k $10.5k\n",
      "(4500, '6190484654', 'https://sfbay.craigslist.org/eby/cto/6190484654.html', '2017-06-23 22:57', u'2000 Toyota Camry LE')\n",
      "Opening: https://sfbay.craigslist.org/eby/cto/6190484654.html\n",
      "Year = 2000\n",
      "Miles = 109000\n",
      "  Title = 2000 toyota camry le\n",
      "(2495, '6179691038', 'https://sfbay.craigslist.org/eby/cto/6179691038.html', '2017-06-23 22:40', u'1998 Toyota camry')\n",
      "Opening: https://sfbay.craigslist.org/eby/cto/6179691038.html\n",
      "Year = 1998\n",
      "Miles = 370000\n",
      "  Title = 1998 toyota camry\n",
      "(9900, '6190434785', 'https://sfbay.craigslist.org/sfc/cto/6190434785.html', '2017-06-23 21:25', u'2010 TOYOTA CAMRY HYBRID 59K MILES!')\n",
      "Opening: https://sfbay.craigslist.org/sfc/cto/6190434785.html\n",
      "Year = 2010\n",
      "Miles = 58900\n",
      "Skip this entry\n",
      "(9900, '6167304525', 'https://sfbay.craigslist.org/sby/cto/6167304525.html', '2017-06-23 20:29', u'2014 Toyota Camry SE')\n",
      "Opening: https://sfbay.craigslist.org/sby/cto/6167304525.html\n",
      "Year = 2014\n",
      "Miles = 36000\n",
      "Skip this entry\n",
      "(10400, '6169466955', 'https://sfbay.craigslist.org/sby/cto/6169466955.html', '2017-06-23 17:32', u'2014 Toyota Camry SE Silver')\n",
      "Opening: https://sfbay.craigslist.org/sby/cto/6169466955.html\n",
      "Year = 2014\n",
      "Skip this entry\n",
      "(750, '6178096494', 'https://sfbay.craigslist.org/eby/cto/6178096494.html', '2017-06-15 10:29', u'Toyota Camry LE 1995 for sale')\n",
      "Opening: https://sfbay.craigslist.org/eby/cto/6178096494.html\n",
      "Year = 1995\n",
      "Skip this entry\n",
      "(11200, '6182964925', 'https://sfbay.craigslist.org/pen/cto/6182964925.html', '2017-06-18 23:26', u'2012 Toyota Camry LE')\n",
      "Opening: https://sfbay.craigslist.org/pen/cto/6182964925.html\n",
      "Year = 2012\n",
      "Miles = 77800\n",
      "  Title = 2012 toyota camry le\n",
      "(6500, '6172839765', 'https://sfbay.craigslist.org/sby/cto/6172839765.html', '2017-06-23 12:24', u'2007 Toyota Camry XLE')\n",
      "Opening: https://sfbay.craigslist.org/sby/cto/6172839765.html\n",
      "Year = 2007\n",
      "Miles = 143567\n",
      "  Title = 2007 toyota camry xle\n",
      "(10500, '6189596184', 'https://sfbay.craigslist.org/sfc/cto/6189596184.html', '2017-06-23 10:09', u'Toyota Camry Hybrid 2009 fully loaded')\n",
      "Opening: https://sfbay.craigslist.org/sfc/cto/6189596184.html\n",
      "Year = 2009\n",
      "Miles = 96800\n",
      "  Title = toyota camry hybrid 2009 fully loaded\n",
      "(5900, '6185498153', 'https://sfbay.craigslist.org/sby/cto/6185498153.html', '2017-06-23 09:30', u'2005 Toyota Camry XLE Sedan')\n",
      "Opening: https://sfbay.craigslist.org/sby/cto/6185498153.html\n",
      "Year = 2005\n",
      "Miles = 125300\n",
      "  Title = 2005 toyota camry xle sedan\n",
      "(2700, '6182601966', 'https://sfbay.craigslist.org/sby/cto/6182601966.html', '2017-06-18 15:25', u'1998 toyota camry le 129000 miles')\n",
      "Opening: https://sfbay.craigslist.org/sby/cto/6182601966.html\n",
      "Year = 1998\n",
      "Miles = 129000\n",
      "  Title = 1998 toyota camry le 129000 miles\n",
      "(1400, '6147745526', 'https://sfbay.craigslist.org/nby/cto/6147745526.html', '2017-06-14 18:46', u'2000 Toyota Camry')\n",
      "Opening: https://sfbay.craigslist.org/nby/cto/6147745526.html\n",
      "Year = 2000\n",
      "Miles = 60000\n",
      "  Title = 2000 toyota camry\n",
      "(1800, '6134688472', 'https://sfbay.craigslist.org/eby/cto/6134688472.html', '2017-06-14 18:31', u'2000 Toyota Camry')\n",
      "Opening: https://sfbay.craigslist.org/eby/cto/6134688472.html\n",
      "Year = 2000\n",
      "Miles = 156000\n",
      "Skip this entry\n",
      "(6800, '6177272286', 'https://sfbay.craigslist.org/nby/cto/6177272286.html', '2017-06-14 17:43', u'2002 Toyota Camry')\n",
      "Opening: https://sfbay.craigslist.org/nby/cto/6177272286.html\n",
      "Year = 2002\n",
      "Miles = 191000\n",
      "  Title = 2002 toyota camry\n",
      "(2900, '6177173352', 'https://sfbay.craigslist.org/sby/cto/6177173352.html', '2017-06-14 16:15', u'***** 2000 TOYOTA CAMRY 4CYL 143K $2900 ***********')\n",
      "Opening: https://sfbay.craigslist.org/sby/cto/6177173352.html\n",
      "Year = 2000\n",
      "Miles = 143000\n",
      "  Title = 2000 toyota camry 4cyl 143k $2900\n",
      "(2250, '6145651351', 'https://sfbay.craigslist.org/sfc/cto/6145651351.html', '2017-06-14 16:09', u'1999 Toyota Camry Le v6')\n",
      "Opening: https://sfbay.craigslist.org/sfc/cto/6145651351.html\n",
      "Year = 1999\n",
      "Skip this entry\n",
      "(4800, '6176793759', 'https://sfbay.craigslist.org/sfc/cto/6176793759.html', '2017-06-14 13:54', u'2001 Toyota camry')\n",
      "Opening: https://sfbay.craigslist.org/sfc/cto/6176793759.html\n",
      "Year = 2001\n",
      "Miles = 103000\n",
      "  Title = 2001 toyota camry\n",
      "(5500, '6176794793', 'https://sfbay.craigslist.org/sfc/cto/6176794793.html', '2017-06-14 13:12', u'2004 Toyota camry')\n",
      "Opening: https://sfbay.craigslist.org/sfc/cto/6176794793.html\n",
      "Year = 2004\n",
      "Miles = 150000\n",
      "  Title = 2004 toyota camry\n",
      "(7500, '6188407687', 'https://sfbay.craigslist.org/sfc/cto/6188407687.html', '2017-06-22 12:58', u'Quick sell!!! 2010 Toyota Camry SE 2.5L - price negotiable')\n",
      "Opening: https://sfbay.craigslist.org/sfc/cto/6188407687.html\n",
      "Year = 2010\n",
      "Miles = 226500\n",
      "  Title = quick sell!!! 2010 toyota camry se 2.5l - price negotiable\n",
      "(2850, '6176816357', 'https://sfbay.craigslist.org/eby/cto/6176816357.html', '2017-06-14 12:07', u'2001 Toyota Camry LE')\n",
      "Opening: https://sfbay.craigslist.org/eby/cto/6176816357.html\n",
      "Year = 2001\n",
      "Miles = 147000\n",
      "  Title = 2001 toyota camry le\n",
      "(13795, '6172310511', 'https://sfbay.craigslist.org/eby/cto/6172310511.html', '2017-06-22 12:14', u'2015 Toyota Camry  clean title in hand backup camera SE model leather')\n",
      "Opening: https://sfbay.craigslist.org/eby/cto/6172310511.html\n",
      "Year = 2015\n",
      "Miles = 70000\n",
      "  Title = 2015 toyota camry  clean title in hand backup camera se model leather\n",
      "(950, '6171308870', 'https://sfbay.craigslist.org/eby/cto/6171308870.html', '2017-06-22 10:40', u'Mechanic special###1999 Toyota Camry 2000 Mitsubishi two 4 one deal')\n",
      "Opening: https://sfbay.craigslist.org/eby/cto/6171308870.html\n",
      "Year = 2000\n",
      "Miles = 17700\n",
      "Skip this entry\n",
      "(2400, '6134192920', 'https://sfbay.craigslist.org/eby/cto/6134192920.html', '2017-06-14 09:59', u'2000 toyota camry sale')\n",
      "Opening: https://sfbay.craigslist.org/eby/cto/6134192920.html\n",
      "Year = 2000\n",
      "Miles = 210000\n",
      "  Title = 2000 toyota camry sale\n",
      "(7495, '6145830306', 'https://sfbay.craigslist.org/eby/cto/6145830306.html', '2017-06-22 09:33', u'2010 Toyota Camry LE')\n",
      "Opening: https://sfbay.craigslist.org/eby/cto/6145830306.html\n",
      "Year = 2010\n",
      "Miles = 133900\n",
      "  Title = 2010 toyota camry le\n",
      "(8750, '6172470361', 'https://sfbay.craigslist.org/pen/cto/6172470361.html', '2017-06-17 19:09', u'Toyota Camry 2011 ..')\n",
      "Opening: https://sfbay.craigslist.org/pen/cto/6172470361.html\n",
      "Year = 2011\n",
      "Miles = 48000\n",
      "Skip this entry\n",
      "(10000, '6181206674', 'https://sfbay.craigslist.org/eby/cto/6181206674.html', '2017-06-17 12:42', u'2011 Toyota Camry FOR SALE')\n",
      "Opening: https://sfbay.craigslist.org/eby/cto/6181206674.html\n",
      "Year = 2011\n",
      "Miles = 100000\n",
      "  Title = 2011 toyota camry for sale\n",
      "(8900, '6135998432', 'https://sfbay.craigslist.org/sby/cto/6135998432.html', '2017-06-13 23:18', u'2007 Toyota camry')\n",
      "Opening: https://sfbay.craigslist.org/sby/cto/6135998432.html\n",
      "Year = 2007\n",
      "Miles = 90000\n",
      "  Title = 2007 toyota camry\n",
      "(8900, '6135999126', 'https://sfbay.craigslist.org/eby/cto/6135999126.html', '2017-06-13 22:57', u'2007 Toyota camry le')\n",
      "Opening: https://sfbay.craigslist.org/eby/cto/6135999126.html\n",
      "Year = 2007\n",
      "Miles = 90000\n",
      "  Title = 2007 toyota camry le\n",
      "(8900, '6136000003', 'https://sfbay.craigslist.org/eby/cto/6136000003.html', '2017-06-13 22:55', u'2007 Toyota camry le')\n",
      "Opening: https://sfbay.craigslist.org/eby/cto/6136000003.html\n",
      "Year = 2007\n",
      "Miles = 90000\n",
      "  Title = 2007 toyota camry le\n",
      "(6500, '6181028683', 'https://sfbay.craigslist.org/eby/cto/6181028683.html', '2017-06-17 10:48', u'05 Toyota Camry LE- Clean Title')\n",
      "Opening: https://sfbay.craigslist.org/eby/cto/6181028683.html\n",
      "Year = 2005\n",
      "Miles = 151000\n",
      "  Title = 05 toyota camry le- clean title\n",
      "(5750, '6146745341', 'https://sfbay.craigslist.org/pen/cto/6146745341.html', '2017-06-21 19:22', u'2005 Toyota Camry SE')\n",
      "Opening: https://sfbay.craigslist.org/pen/cto/6146745341.html\n",
      "Year = 2005\n",
      "Skip this entry\n",
      "(2750, '6153285217', 'https://sfbay.craigslist.org/sby/cto/6153285217.html', '2017-06-27 08:40', u'2003 camry LE SALE PRICE TODAY!$2900')\n",
      "Opening: https://sfbay.craigslist.org/sby/cto/6153285217.html\n",
      "Year = 2003\n",
      "Miles = 214000\n",
      "Skip this entry\n",
      "(15700, '6181282912', 'https://sfbay.craigslist.org/sfc/cto/6181282912.html', '2017-06-27 08:15', u'2013  camry hybrid Le')\n",
      "Opening: https://sfbay.craigslist.org/sfc/cto/6181282912.html\n",
      "Year = 2013\n",
      "Miles = 39500\n",
      "Skip this entry\n",
      "(5000, '6175918642', 'https://sfbay.craigslist.org/sby/cto/6175918642.html', '2017-06-13 19:46', u'Low Miles Toyota 2005 Camry For Sale')\n",
      "Opening: https://sfbay.craigslist.org/sby/cto/6175918642.html\n",
      "Year = 2005\n",
      "Miles = 120010\n",
      "  Title = low miles toyota 2005 camry for sale\n",
      "(1500, '6175873642', 'https://sfbay.craigslist.org/eby/cto/6175873642.html', '2017-06-13 18:58', u'2002 Toyota Camry')\n",
      "Opening: https://sfbay.craigslist.org/eby/cto/6175873642.html\n",
      "Year = 2002\n",
      "Miles = 168000\n",
      "Skip this entry\n",
      "(2500, '6187034340', 'https://sfbay.craigslist.org/pen/cto/6187034340.html', '2017-06-21 14:21', u'1999 Toyota Camry CE Manual')\n",
      "Opening: https://sfbay.craigslist.org/pen/cto/6187034340.html\n",
      "Year = 1999\n",
      "Miles = 199000\n",
      "  Title = 1999 toyota camry ce manual\n",
      "(18000, '6175594802', 'https://sfbay.craigslist.org/pen/cto/6175594802.html', '2017-06-13 15:18', u'Toyota Camry SE 2016')\n",
      "Opening: https://sfbay.craigslist.org/pen/cto/6175594802.html\n",
      "Year = 2016\n",
      "Miles = 8000\n",
      "  Title = toyota camry se 2016\n",
      "(2800, '6187461243', 'https://sfbay.craigslist.org/nby/cto/6187461243.html', '2017-06-26 20:54', u'2002 Toyota Solara $2800')\n",
      "Opening: https://sfbay.craigslist.org/nby/cto/6187461243.html\n",
      "Year = 2002\n",
      "Miles = 157000\n",
      "Skip this entry\n",
      "(5500, '6164751967', 'https://sfbay.craigslist.org/sby/cto/6164751967.html', '2017-06-26 20:21', u'2000 Camry XLE')\n",
      "Opening: https://sfbay.craigslist.org/sby/cto/6164751967.html\n",
      "Year = 2000\n",
      "Miles = 189000\n",
      "Skip this entry\n",
      "(8800, '6180406308', 'https://sfbay.craigslist.org/sfc/cto/6180406308.html', '2017-06-16 23:13', u'Toyota Camry')\n",
      "Opening: https://sfbay.craigslist.org/sfc/cto/6180406308.html\n",
      "Year = 2008\n",
      "Miles = 100550\n",
      "  Title = toyota camry\n",
      "(3600, '6194334176', 'https://sfbay.craigslist.org/eby/cto/6194334176.html', '2017-06-26 18:33', u'Extra special deal!! 2003 Toyota Camry')\n",
      "Opening: https://sfbay.craigslist.org/eby/cto/6194334176.html\n",
      "Year = 2003\n",
      "Miles = 170000\n",
      "  Title = extra special deal!! 2003 toyota camry\n",
      "(3400, '6186136377', 'https://sfbay.craigslist.org/sfc/cto/6186136377.html', '2017-06-21 05:07', u'Toyota Camry')\n",
      "Opening: https://sfbay.craigslist.org/sfc/cto/6186136377.html\n",
      "Year = 2003\n",
      "Skip this entry\n",
      "(2400, '6139082778', 'https://sfbay.craigslist.org/eby/cto/6139082778.html', '2017-06-13 09:18', u'TOYOTA CAMRY LE  2001')\n",
      "Opening: https://sfbay.craigslist.org/eby/cto/6139082778.html\n",
      "Year = 2001\n",
      "Miles = 164000\n",
      "  Title = toyota camry le  2001\n",
      "(1099, '6193704235', 'https://sfbay.craigslist.org/eby/cto/6193704235.html', '2017-06-26 10:59', u'1996 Toyota Camry LE 4 doors white -- MUST SEE!!')\n",
      "Opening: https://sfbay.craigslist.org/eby/cto/6193704235.html\n",
      "Year = 1996\n",
      "Miles = 200000\n",
      "  Title = 1996 toyota camry le 4 doors white -- must see!!\n",
      "(3500, '6172635951', 'https://sfbay.craigslist.org/eby/cto/6172635951.html', '2017-06-11 16:17', u'2003 Toyota Camry LE')\n",
      "Opening: https://sfbay.craigslist.org/eby/cto/6172635951.html\n",
      "Year = 2003\n",
      "Miles = 177273\n",
      "  Title = 2003 toyota camry le\n",
      "(7250, '6185800023', 'https://sfbay.craigslist.org/sby/cto/6185800023.html', '2017-06-20 18:01', u'2007 Toyota Camry LE V6')\n",
      "Opening: https://sfbay.craigslist.org/sby/cto/6185800023.html\n",
      "Year = 2007\n",
      "Miles = 127000\n",
      "  Title = 2007 toyota camry le v6\n",
      "(9000, '6174540366', 'https://sfbay.craigslist.org/sfc/cto/6174540366.html', '2017-06-12 23:35', u'2007 Toyota Camry XLE (White) VERY LOW MILEAGE')\n",
      "Opening: https://sfbay.craigslist.org/sfc/cto/6174540366.html\n",
      "Year = 2007\n",
      "Miles = 46000\n",
      "  Title = 2007 toyota camry xle (white) very low mileage\n",
      "(2800, '6179219511', 'https://sfbay.craigslist.org/eby/cto/6179219511.html', '2017-06-16 07:18', u'Toyota camry 98')\n",
      "Opening: https://sfbay.craigslist.org/eby/cto/6179219511.html\n",
      "Year = 1998\n",
      "Miles = 168000\n",
      "  Title = toyota camry 98\n",
      "(5495, '6162636484', 'https://sfbay.craigslist.org/sby/cto/6162636484.html', '2017-06-12 21:04', u'2004 TOYOTA CAMRY LE - CLEAN TITLE')\n",
      "Opening: https://sfbay.craigslist.org/sby/cto/6162636484.html\n",
      "Year = 2004\n",
      "Miles = 146267\n",
      "  Title = 2004 toyota camry le - clean title\n",
      "(10000, '6185237543', 'https://sfbay.craigslist.org/eby/cto/6185237543.html', '2017-06-20 11:19', u'2009 Toyota Camry Hybrid-fully loaded! safe, reliable, perfect car!')\n",
      "Opening: https://sfbay.craigslist.org/eby/cto/6185237543.html\n",
      "Year = 2009\n",
      "Miles = 133000\n",
      "  Title = 2009 toyota camry hybrid-fully loaded! safe, reliable, perfect car!\n",
      "(6850, '6174451000', 'https://sfbay.craigslist.org/eby/cto/6174451000.html', '2017-06-12 20:53', u'2004 toyota camry (low miles) 90,xxx')\n",
      "Opening: https://sfbay.craigslist.org/eby/cto/6174451000.html\n",
      "Year = 2004\n",
      "Miles = 90000\n",
      "  Title = 2004 toyota camry (low miles) 90,xxx\n",
      "(2500, '6174411921', 'https://sfbay.craigslist.org/sfc/cto/6174411921.html', '2017-06-12 20:04', u'1997 Toyota Camry')\n",
      "Opening: https://sfbay.craigslist.org/sfc/cto/6174411921.html\n",
      "Year = 1997\n",
      "Skip this entry\n",
      "(13000, '6171663580', 'https://sfbay.craigslist.org/sby/cto/6171663580.html', '2017-06-20 09:59', u'2007 Toyota Camry Hybrid')\n",
      "Opening: https://sfbay.craigslist.org/sby/cto/6171663580.html\n",
      "Year = 2007\n",
      "Miles = 127000\n",
      "  Title = 2007 toyota camry hybrid\n",
      "(2900, '6192962629', 'https://sfbay.craigslist.org/sby/cto/6192962629.html', '2017-06-25 19:21', u'1999 TOYOTA CAMRY LE - $2900')\n",
      "Opening: https://sfbay.craigslist.org/sby/cto/6192962629.html\n",
      "Year = 1999\n",
      "Miles = 133800\n",
      "  Title = 1999 toyota camry le - $2900\n",
      "(1475, '6170240339', 'https://sfbay.craigslist.org/scz/cto/6170240339.html', '2017-06-25 15:18', u'99 Camry')\n",
      "Opening: https://sfbay.craigslist.org/scz/cto/6170240339.html\n",
      "Year = 1999\n",
      "Miles = 211000\n",
      "Skip this entry\n",
      "(18500, '6174163160', 'https://sfbay.craigslist.org/nby/cto/6174163160.html', '2017-06-12 16:13', u'2017 Toyota Camry SE - White')\n",
      "Opening: https://sfbay.craigslist.org/nby/cto/6174163160.html\n",
      "Year = 2017\n",
      "Miles = 6400\n",
      "  Title = 2017 toyota camry se - white\n",
      "(2150, '6174132388', 'https://sfbay.craigslist.org/sfc/cto/6174132388.html', '2017-06-12 15:49', u'TOYOTA CAMRY LE 1999 Golden')\n",
      "Opening: https://sfbay.craigslist.org/sfc/cto/6174132388.html\n",
      "Year = 1999\n",
      "Miles = 197278\n",
      "  Title = toyota camry le 1999 golden\n",
      "(1999, '6178188822', 'https://sfbay.craigslist.org/pen/cto/6178188822.html', '2017-06-25 13:22', u'1996 Camry, 5 spd man trans, 4 cyl, GREAT CAR, ~30mpg hwy')\n",
      "Opening: https://sfbay.craigslist.org/pen/cto/6178188822.html\n",
      "Year = 1996\n",
      "Miles = 235000\n",
      "Skip this entry\n",
      "(3400, '6189719440', 'https://sfbay.craigslist.org/eby/cto/6189719440.html', '2017-06-25 13:14', u'05 Toyota Camry')\n",
      "Opening: https://sfbay.craigslist.org/eby/cto/6189719440.html\n",
      "Year = 2005\n",
      "Skip this entry\n",
      "(1000, '6192562622', 'https://sfbay.craigslist.org/sfc/cto/6192562622.html', '2017-06-25 12:57', u'98 Toyota camary')\n",
      "Opening: https://sfbay.craigslist.org/sfc/cto/6192562622.html\n",
      "Year = 1998\n",
      "Skip this entry\n",
      "(2400, '6173923133', 'https://sfbay.craigslist.org/sby/cto/6173923133.html', '2017-06-12 14:03', u'Toyota Camry 1998 excellent condition for sale')\n",
      "Opening: https://sfbay.craigslist.org/sby/cto/6173923133.html\n",
      "Year = 1998\n",
      "Miles = 209600\n",
      "Skip this entry\n",
      "(999, '6173683084', 'https://sfbay.craigslist.org/eby/cto/6173683084.html', '2017-06-12 11:05', u'99 Toyota Camry')\n",
      "Opening: https://sfbay.craigslist.org/eby/cto/6173683084.html\n",
      "Year = 1999\n",
      "Miles = 220000\n",
      "  Title = 99 toyota camry\n",
      "(4750, '6167344777', 'https://sfbay.craigslist.org/sby/cto/6167344777.html', '2017-06-12 10:54', u'Toyota Camry 2.4L LE 2006, Automatic Transmission')\n",
      "Opening: https://sfbay.craigslist.org/sby/cto/6167344777.html\n",
      "Year = 2006\n",
      "Miles = 194500\n",
      "  Title = toyota camry 2.4l le 2006, automatic transmission\n",
      "(12000, '6184503398', 'https://sfbay.craigslist.org/sfc/cto/6184503398.html', '2017-06-19 22:34', u'2007 Toyota Camry hybrid')\n",
      "Opening: https://sfbay.craigslist.org/sfc/cto/6184503398.html\n",
      "Year = 2007\n",
      "Miles = 90000\n",
      "  Title = 2007 toyota camry hybrid\n",
      "(9600, '6184360620', 'https://sfbay.craigslist.org/eby/cto/6184360620.html', '2017-06-19 20:42', u'2008 Toyota CAMRY V6 XLE')\n",
      "Opening: https://sfbay.craigslist.org/eby/cto/6184360620.html\n",
      "Year = 2008\n",
      "Miles = 67010\n",
      "  Title = 2008 toyota camry v6 xle\n",
      "(14950, '6173377505', 'https://sfbay.craigslist.org/eby/cto/6173377505.html', '2017-06-12 08:19', u'2011 Toyota Camry XLE for sale')\n",
      "Opening: https://sfbay.craigslist.org/eby/cto/6173377505.html\n",
      "Year = 2011\n",
      "Miles = 60500\n",
      "  Title = 2011 toyota camry xle for sale\n",
      "(12000, '6184329680', 'https://sfbay.craigslist.org/sfc/cto/6184329680.html', '2017-06-19 18:49', u'2007 Toyota Camry hybrid')\n",
      "Opening: https://sfbay.craigslist.org/sfc/cto/6184329680.html\n",
      "Year = 2007\n",
      "Miles = 90000\n",
      "  Title = 2007 toyota camry hybrid\n",
      "(3500, '6143592354', 'https://sfbay.craigslist.org/sfc/cto/6143592354.html', '2017-06-19 16:40', u'Toyota Camry 2001')\n",
      "Opening: https://sfbay.craigslist.org/sfc/cto/6143592354.html\n",
      "Year = 2001\n",
      "Skip this entry\n",
      "(1700, '6184132301', 'https://sfbay.craigslist.org/eby/cto/6184132301.html', '2017-06-19 16:02', u'TOYOTA CAMRY 1996 OBO')\n",
      "Opening: https://sfbay.craigslist.org/eby/cto/6184132301.html\n",
      "Year = 1996\n",
      "Miles = 261474\n",
      "  Title = toyota camry 1996 obo\n",
      "(1400, '6178189892', 'https://sfbay.craigslist.org/eby/cto/6178189892.html', '2017-06-15 11:23', u'1996 Toyota Camry runs great')\n",
      "Opening: https://sfbay.craigslist.org/eby/cto/6178189892.html\n",
      "Year = 1996\n",
      "Skip this entry\n",
      "(5900, '6183880982', 'https://sfbay.craigslist.org/sby/cto/6183880982.html', '2017-06-19 13:13', u'2005 Toyota Camry XLE V6')\n",
      "Opening: https://sfbay.craigslist.org/sby/cto/6183880982.html\n",
      "Year = 2005\n",
      "Miles = 125295\n",
      "  Title = 2005 toyota camry xle v6\n",
      "(5995, '6180844506', 'https://sfbay.craigslist.org/sby/cto/6180844506.html', '2017-06-19 13:04', u'2005 Toyota Camry XLE V6 Sedan')\n",
      "Opening: https://sfbay.craigslist.org/sby/cto/6180844506.html\n",
      "Year = 2005\n",
      "Miles = 125295\n",
      "  Title = 2005 toyota camry xle v6 sedan\n",
      "(1, '6191709839', 'https://sfbay.craigslist.org/eby/cto/6191709839.html', '2017-06-24 18:29', u'Camry')\n",
      "Opening: https://sfbay.craigslist.org/eby/cto/6191709839.html\n",
      "Year = 1995\n",
      "Miles = 198300\n",
      "Skip this entry\n",
      "(5000, '6191685109', 'https://sfbay.craigslist.org/eby/cto/6191685109.html', '2017-06-24 18:01', u'2003 TOYOTA CAMRY')\n",
      "Opening: https://sfbay.craigslist.org/eby/cto/6191685109.html\n",
      "Year = 2003\n",
      "Miles = 150000\n",
      "  Title = 2003 toyota camry\n",
      "(2999, '6132128623', 'https://sfbay.craigslist.org/sby/cto/6132128623.html', '2017-06-11 23:14', u'2001 Toyota Camry LE')\n",
      "Opening: https://sfbay.craigslist.org/sby/cto/6132128623.html\n",
      "Year = 2001\n",
      "Miles = 166000\n",
      "  Title = 2001 toyota camry le\n",
      "(7800, '6172953813', 'https://sfbay.craigslist.org/nby/cto/6172953813.html', '2017-06-11 22:48', u'2010 Toyota Camry LE Sedan Gas Saver Run and Driver Perfect')\n",
      "Opening: https://sfbay.craigslist.org/nby/cto/6172953813.html\n",
      "Year = 2010\n",
      "Miles = 149217\n",
      "  Title = 2010 toyota camry le sedan gas saver run and driver perfect\n",
      "(7000, '6172869573', 'https://sfbay.craigslist.org/sby/cto/6172869573.html', '2017-06-11 20:26', u'2013 Toyota Camry  SE $7000')\n",
      "Opening: https://sfbay.craigslist.org/sby/cto/6172869573.html\n",
      "Year = 2013\n",
      "Miles = 215000\n",
      "Skip this entry\n",
      "(5700, '6181188595', 'https://sfbay.craigslist.org/sby/cto/6181188595.html', '2017-06-24 09:17', u'2003TOYOTA CAMRY XLE CLEAN TITLE')\n",
      "Opening: https://sfbay.craigslist.org/sby/cto/6181188595.html\n",
      "Year = 2003\n",
      "Miles = 113000\n",
      "  Title = 2003toyota camry xle clean title\n",
      "(9700, '6182977626', 'https://sfbay.craigslist.org/eby/cto/6182977626.html', '2017-06-19 00:03', u'Toyota Camry')\n",
      "Opening: https://sfbay.craigslist.org/eby/cto/6182977626.html\n",
      "Year = 2009\n",
      "Miles = 84600\n",
      "  Title = toyota camry\n",
      "(11000, '6172373830', 'https://sfbay.craigslist.org/sby/cto/6172373830.html', '2017-06-11 12:42', u'2011 Silver Toyota Camry  LE 4D')\n",
      "Opening: https://sfbay.craigslist.org/sby/cto/6172373830.html\n",
      "Year = 2011\n",
      "Miles = 49200\n",
      "  Title = 2011 silver toyota camry  le 4d\n",
      "(1400, '6177203144', 'https://sfbay.craigslist.org/eby/cto/6177203144.html', '2017-06-14 16:40', u'1996 Toyota Camry runs great')\n",
      "Opening: https://sfbay.craigslist.org/eby/cto/6177203144.html\n",
      "Year = 1996\n",
      "Skip this entry\n",
      "(2600, '6172128330', 'https://sfbay.craigslist.org/eby/cto/6172128330.html', '2017-06-11 09:49', u'1999 Toyota Camry')\n",
      "Opening: https://sfbay.craigslist.org/eby/cto/6172128330.html\n",
      "Year = 1999\n",
      "Miles = 186000\n",
      "  Title = 1999 toyota camry\n",
      "(6800, '6172092685', 'https://sfbay.craigslist.org/pen/cto/6172092685.html', '2017-06-11 09:24', u'Camry toyota 2007 for sale')\n",
      "Opening: https://sfbay.craigslist.org/pen/cto/6172092685.html\n",
      "Year = 2007\n",
      "Miles = 120000\n",
      "  Title = camry toyota 2007 for sale\n",
      "(1200, '6190287295', 'https://sfbay.craigslist.org/sby/cto/6190287295.html', '2017-06-23 18:19', u'Toyota')\n",
      "Opening: https://sfbay.craigslist.org/sby/cto/6190287295.html\n",
      "Year = 1999\n",
      "Skip this entry\n",
      "(1650, '6176663089', 'https://sfbay.craigslist.org/sby/cto/6176663089.html', '2017-06-14 11:38', u'2002 Toyota Camry Se mechanics special')\n",
      "Opening: https://sfbay.craigslist.org/sby/cto/6176663089.html\n",
      "Year = 2002\n",
      "Miles = 178626\n",
      "  Title = 2002 toyota camry se mechanics special\n",
      "(11500, '6141426239', 'https://sfbay.craigslist.org/pen/cto/6141426239.html', '2017-06-18 10:35', u'2011 TOYOTA CAMRY XLE V-6')\n",
      "Opening: https://sfbay.craigslist.org/pen/cto/6141426239.html\n",
      "Year = 2011\n",
      "Miles = 65488\n",
      "  Title = 2011 toyota camry xle v-6\n",
      "(7000, '6134437674', 'https://sfbay.craigslist.org/eby/cto/6134437674.html', '2017-06-14 10:33', u'2007 Toyota Camry Solara Sport ***Clean Title***')\n",
      "Opening: https://sfbay.craigslist.org/eby/cto/6134437674.html\n",
      "Year = 2007\n",
      "Miles = 144501\n",
      "  Title = 2007 toyota camry solara sport clean title\n",
      "(9500, '6189755344', 'https://sfbay.craigslist.org/sby/cto/6189755344.html', '2017-06-23 12:19', u'2013 TOYOTA CAMRY..SUPER CLEAN!!')\n",
      "Opening: https://sfbay.craigslist.org/sby/cto/6189755344.html\n",
      "Year = 2013\n",
      "Miles = 959000\n",
      "  Title = 2013 toyota camry..super clean!!\n",
      "(1100, '6171771486', 'https://sfbay.craigslist.org/eby/cto/6171771486.html', '2017-06-11 03:47', u'toyota camry 1998')\n",
      "Opening: https://sfbay.craigslist.org/eby/cto/6171771486.html\n",
      "Year = 1998\n",
      "Skip this entry\n",
      "(9490, '6186626743', 'https://sfbay.craigslist.org/nby/cto/6186626743.html', '2017-06-23 10:26', u'2011 CAMRY HYBRID')\n",
      "Opening: https://sfbay.craigslist.org/nby/cto/6186626743.html\n",
      "Year = 2011\n",
      "Miles = 174718\n",
      "Skip this entry\n",
      "(5000, '6176376845', 'https://sfbay.craigslist.org/eby/cto/6176376845.html', '2017-06-14 07:44', u'Toyota camry')\n",
      "Opening: https://sfbay.craigslist.org/eby/cto/6176376845.html\n",
      "Year = 2003\n",
      "Miles = 117000\n",
      "  Title = toyota camry\n",
      "(5500, '6171600861', 'https://sfbay.craigslist.org/sby/cto/6171600861.html', '2017-06-10 21:06', u'2005 Toyota Camry 85000 miles, original owner-asking for')\n",
      "Opening: https://sfbay.craigslist.org/sby/cto/6171600861.html\n",
      "Year = 2005\n",
      "Miles = 85000\n",
      "  Title = 2005 toyota camry 85000 miles, original owner-asking for\n",
      "(8981, '6181730639', 'https://sfbay.craigslist.org/eby/cto/6181730639.html', '2017-06-17 21:19', u'2011 TOYOTA CAMRY 4DR SEDAN')\n",
      "Opening: https://sfbay.craigslist.org/eby/cto/6181730639.html\n",
      "Year = 2011\n",
      "Miles = 126533\n",
      "  Title = 2011 toyota camry 4dr sedan\n",
      "(1700, '6163542211', 'https://sfbay.craigslist.org/eby/cto/6163542211.html', '2017-06-10 18:15', u'2000 Toyota Camry and a 01 VW Passat')\n",
      "Opening: https://sfbay.craigslist.org/eby/cto/6163542211.html\n",
      "Year = 2000\n",
      "Skip this entry\n",
      "(7000, '6181675180', 'https://sfbay.craigslist.org/eby/cto/6181675180.html', '2017-06-17 19:53', u'2006 toyota camry le')\n",
      "Opening: https://sfbay.craigslist.org/eby/cto/6181675180.html\n",
      "Year = 2006\n",
      "Miles = 85000\n",
      "  Title = 2006 toyota camry le\n",
      "(500, '6181544638', 'https://sfbay.craigslist.org/sby/cto/6181544638.html', '2017-06-17 17:17', u'1999 Toyota Camry')\n",
      "Opening: https://sfbay.craigslist.org/sby/cto/6181544638.html\n",
      "Year = 1999\n",
      "Skip this entry\n",
      "(9700, '6161296168', 'https://sfbay.craigslist.org/sfc/cto/6161296168.html', '2017-06-10 13:07', u'2007 Toyota Camry Hybrid LE')\n",
      "Opening: https://sfbay.craigslist.org/sfc/cto/6161296168.html\n",
      "Year = 2007\n",
      "Skip this entry\n",
      "(6900, '6181252146', 'https://sfbay.craigslist.org/eby/cto/6181252146.html', '2017-06-17 13:27', u'2009 Toyota Camry low miles (hablo espanol)')\n",
      "Opening: https://sfbay.craigslist.org/eby/cto/6181252146.html\n",
      "Year = 2009\n",
      "Miles = 120000\n",
      "  Title = 2009 toyota camry low miles (hablo espanol)\n",
      "(1850, '6175660771', 'https://sfbay.craigslist.org/eby/cto/6175660771.html', '2017-06-13 15:51', u'Toyota Camry 95')\n",
      "Opening: https://sfbay.craigslist.org/eby/cto/6175660771.html\n",
      "Year = 1995\n",
      "Miles = 227490\n",
      "  Title = toyota camry 95\n",
      "(1050, '6179685390', 'https://sfbay.craigslist.org/sby/cto/6179685390.html', '2017-06-17 13:21', u'1998 Toyota Camry')\n",
      "Opening: https://sfbay.craigslist.org/sby/cto/6179685390.html\n",
      "Year = 1998\n",
      "Miles = 160000\n",
      "  Title = 1998 toyota camry\n",
      "(2000, '6175606486', 'https://sfbay.craigslist.org/sfc/cto/6175606486.html', '2017-06-13 15:10', u'** 1997 Toyota Camry 138kmiles Clean Title**')\n",
      "Opening: https://sfbay.craigslist.org/sfc/cto/6175606486.html\n",
      "Year = 1997\n",
      "Miles = 138000\n",
      "  Title = 1997 toyota camry 138kmiles clean title\n",
      "(3450, '6140901752', 'https://sfbay.craigslist.org/sby/cto/6140901752.html', '2017-06-13 14:56', u'toyota camry v6 solara')\n",
      "Opening: https://sfbay.craigslist.org/sby/cto/6140901752.html\n",
      "Year = 2001\n",
      "Miles = 174000\n",
      "  Title = toyota camry v6 solara\n",
      "(5999, '6170936441', 'https://sfbay.craigslist.org/sfc/cto/6170936441.html', '2017-06-10 11:58', u'2004 Toyota camry')\n",
      "Opening: https://sfbay.craigslist.org/sfc/cto/6170936441.html\n",
      "Year = 2004\n",
      "Skip this entry\n",
      "(2900, '6181144194', 'https://sfbay.craigslist.org/eby/cto/6181144194.html', '2017-06-17 12:01', u'1998 Toyota Camry LE')\n",
      "Opening: https://sfbay.craigslist.org/eby/cto/6181144194.html\n",
      "Year = 1998\n",
      "Miles = 155324\n",
      "  Title = 1998 toyota camry le\n",
      "(2500, '6175489660', 'https://sfbay.craigslist.org/eby/cto/6175489660.html', '2017-06-13 13:50', u'1997 Toyota Camry  4 Cyl clean title')\n",
      "Opening: https://sfbay.craigslist.org/eby/cto/6175489660.html\n",
      "Year = 1997\n",
      "Miles = 208000\n",
      "  Title = 1997 toyota camry  4 cyl clean title\n",
      "(2200, '6188208560', 'https://sfbay.craigslist.org/eby/cto/6188208560.html', '2017-06-22 10:53', u'1998 Camry LE, 1st Owner, Clean, Strong AC, Excellent Eng, New SMOG')\n",
      "Opening: https://sfbay.craigslist.org/eby/cto/6188208560.html\n",
      "Year = 1998\n",
      "Miles = 193883\n",
      "Skip this entry\n",
      "(2000, '6170864104', 'https://sfbay.craigslist.org/nby/cto/6170864104.html', '2017-06-10 10:45', u'1999 Toyota Camry 178k no issues')\n",
      "Opening: https://sfbay.craigslist.org/nby/cto/6170864104.html\n",
      "Year = 1999\n",
      "Skip this entry\n",
      "(13000, '6175230183', 'https://sfbay.craigslist.org/eby/cto/6175230183.html', '2017-06-13 11:28', u'2014 Toyota Camry LE (LOW MILES)')\n",
      "Opening: https://sfbay.craigslist.org/eby/cto/6175230183.html\n",
      "Year = 2014\n",
      "Miles = 35800\n",
      "  Title = 2014 toyota camry le (low miles)\n",
      "(13000, '6175226453', 'https://sfbay.craigslist.org/eby/cto/6175226453.html', '2017-06-13 11:25', u'2014 Toyota Camry LE (LOW MILES)')\n",
      "Opening: https://sfbay.craigslist.org/eby/cto/6175226453.html\n",
      "Year = 2014\n",
      "Miles = 35800\n",
      "  Title = 2014 toyota camry le (low miles)\n",
      "(13000, '6175221490', 'https://sfbay.craigslist.org/eby/cto/6175221490.html', '2017-06-13 11:19', u'2014 Toyota Camry LE (LOW MILES)')\n",
      "Opening: https://sfbay.craigslist.org/eby/cto/6175221490.html\n",
      "Year = 2014\n",
      "Miles = 35800\n",
      "  Title = 2014 toyota camry le (low miles)\n",
      "(13000, '6175217350', 'https://sfbay.craigslist.org/eby/cto/6175217350.html', '2017-06-13 11:02', u'2014 Toyota Camry LE (LOW MILES)')\n",
      "Opening: https://sfbay.craigslist.org/eby/cto/6175217350.html\n",
      "Year = 2014\n",
      "Miles = 35800\n",
      "  Title = 2014 toyota camry le (low miles)\n",
      "(13000, '6157599307', 'https://sfbay.craigslist.org/eby/cto/6157599307.html', '2017-06-13 10:56', u'2014 Toyota Camry LE (LOW MILES)')\n",
      "Opening: https://sfbay.craigslist.org/eby/cto/6157599307.html\n",
      "Year = 2014\n",
      "Miles = 35800\n",
      "  Title = 2014 toyota camry le (low miles)\n",
      "(13000, '6175207607', 'https://sfbay.craigslist.org/sby/cto/6175207607.html', '2017-06-13 10:56', u'2014 Toyota Camry LE (LOW MILES)')\n",
      "Opening: https://sfbay.craigslist.org/sby/cto/6175207607.html\n",
      "Year = 2014\n",
      "Miles = 35800\n",
      "  Title = 2014 toyota camry le (low miles)\n",
      "(1700, '6153101897', 'https://sfbay.craigslist.org/eby/cto/6153101897.html', '2017-06-13 09:03', u'Toyota Camry \"98')\n",
      "Opening: https://sfbay.craigslist.org/eby/cto/6153101897.html\n",
      "Year = 1998\n",
      "Miles = 180162\n",
      "Skip this entry\n",
      "(400, '6170240081', 'https://sfbay.craigslist.org/pen/cto/6170240081.html', '2017-06-09 22:34', u'96 Toyota Camry needs motor')\n",
      "Opening: https://sfbay.craigslist.org/pen/cto/6170240081.html\n",
      "Year = 1996\n",
      "Skip this entry\n",
      "(4500, '6170199619', 'https://sfbay.craigslist.org/sby/cto/6170199619.html', '2017-06-09 21:56', u'Toyota Camry 2000')\n",
      "Opening: https://sfbay.craigslist.org/sby/cto/6170199619.html\n",
      "Year = 2000\n",
      "Skip this entry\n"
     ]
    }
   ],
   "source": [
    "pidl =[]\n",
    "posttimel = []\n",
    "cityl = []\n",
    "statel = []\n",
    "makel = []\n",
    "modell = []\n",
    "pricel = []\n",
    "yearl = []\n",
    "milesl = []\n",
    "urll = []\n",
    "titlel = []\n",
    "attrl = []\n",
    "imglinkl = []\n",
    "messagel = []\n",
    "\n",
    "wrongcount=0\n",
    "maxwrong = 10\n",
    "filterdate = '2017-01-01 00:00'\n",
    "pagemax = 10\n",
    "pagecount = 0\n",
    "\n",
    "for result in results_page:\n",
    "    print result\n",
    "\n",
    "    if newer_than_date(result[3],filterdate) :\n",
    "        pass\n",
    "    else:\n",
    "        wrongcount += 1\n",
    "        if wrongcount > maxwrong:\n",
    "            print 'Max wrong reached, break'\n",
    "            \n",
    "\n",
    "    page_link = result[2] #urls\n",
    "    print 'Opening:', page_link\n",
    "    page = requests.get(page_link, headers=head)\n",
    "    #soup = BeautifulSoup(page.text, \"lxml\")\n",
    "\n",
    "    mytitle, myimglink, mymessage, myattr_model, myattributes = analyze_page(page)\n",
    "\n",
    "    myyear = get_year(mytitle, myattr_model) \n",
    "    mymiles = get_miles(myattributes, mytitle, mymessage)\n",
    "    title_status = get_title_status(myattributes)\n",
    "\n",
    "    if myyear == -1 or mymiles == -1 or title_status == 'salvage' \\\n",
    "                or make not in mytitle or model not in mytitle:  \n",
    "        #skip this entry\n",
    "        print ' ^^^^^^^^ Skip this entry ^^^^^^^^'\n",
    "    else: \n",
    "        print '  Title =', mytitle\n",
    "        # append data\n",
    "        pidl.append(result[1])\n",
    "        posttimel.append(result[3])\n",
    "        cityl.append(city)\n",
    "        statel.append(state)\n",
    "        makel.append(make)\n",
    "        modell.append(model)\n",
    "        pricel.append(result[0])\n",
    "        yearl.append(myyear)          \n",
    "        milesl.append(mymiles)\n",
    "        urll.append(result[2])\n",
    "        titlel.append(mytitle)\n",
    "        attrl.append(myattributes)\n",
    "        imglinkl.append(myimglink)\n",
    "        messagel.append(mymessage)\n",
    "    y = random.uniform(2,6)\n",
    "    time.sleep(y)\n",
    "            \n",
    "            \n",
    "            "
   ]
  },
  {
   "cell_type": "code",
   "execution_count": 331,
   "metadata": {
    "collapsed": false
   },
   "outputs": [
    {
     "name": "stdout",
     "output_type": "stream",
     "text": [
      "  Add # of rows =  81\n"
     ]
    }
   ],
   "source": [
    "csvfilename = 'CAR_PRICE_DATABASE.csv'\n",
    "rows = len(pidl)\n",
    "print \"  Add # of rows = \", rows\n",
    "\n",
    "alist = []\n",
    "\n",
    "for i in range(rows):\n",
    "    alist.append([pidl[i], posttimel[i], cityl[i], statel[i], makel[i], modell[i], pricel[i], \\\n",
    "                  yearl[i], milesl[i], urll[i], titlel[i], attrl[i], imglinkl[i], messagel[i] ])\n",
    "\n",
    "with open(csvfilename, \"a\") as csvfile:\n",
    "    writer = csv.writer(csvfile)\n",
    "    writer.writerows(alist)"
   ]
  },
  {
   "cell_type": "code",
   "execution_count": 342,
   "metadata": {
    "collapsed": false
   },
   "outputs": [
    {
     "data": {
      "text/plain": [
       "(u'toyota camry 2000',\n",
       " 'https://images.craigslist.org/00505_4xV3ZxuwdCp_600x450.jpg',\n",
       " u'leather seating and automatic. excellent  great, reliable 2000 toyota camry! this fantastic toyota is one of the most sought after used vehicles on the market because it never lets owners down. it scored the top rating in the iihs frontal offset test.\\ncamry le, 4d sedan, 2.2l i4 16v, 4-speed automatic, fwd, cashmere beige metallic, and oak wcloth seat trim.\\ncurrent with dmv registration, pink slip in handregistration.  serious inquiries only pls.\\nthanks',\n",
       " u'2000 toyota camry',\n",
       " u'condition: excellent\\ncylinders: 6 cylinders\\ndrive: fwd\\nfuel: gas\\npaint color: silver\\nsize: compact\\ntitle status: clean\\ntransmission: automatic\\ntype: sedan')"
      ]
     },
     "execution_count": 342,
     "metadata": {},
     "output_type": "execute_result"
    }
   ],
   "source": [
    "mytitle, myimglink, mymessage, myattr_model, myattributes"
   ]
  },
  {
   "cell_type": "code",
   "execution_count": 344,
   "metadata": {
    "collapsed": false
   },
   "outputs": [
    {
     "name": "stdout",
     "output_type": "stream",
     "text": [
      "Good\n"
     ]
    }
   ],
   "source": [
    "if '' in (mytitle, myimglink, mymessage, myattr_model, myattributes):\n",
    "    print 'Not found'\n",
    "else :\n",
    "    print 'Good'"
   ]
  },
  {
   "cell_type": "code",
   "execution_count": 345,
   "metadata": {
    "collapsed": false
   },
   "outputs": [
    {
     "data": {
      "text/plain": [
       "[]"
      ]
     },
     "execution_count": 345,
     "metadata": {},
     "output_type": "execute_result"
    }
   ],
   "source": [
    "attr"
   ]
  },
  {
   "cell_type": "code",
   "execution_count": 357,
   "metadata": {
    "collapsed": false
   },
   "outputs": [
    {
     "name": "stdout",
     "output_type": "stream",
     "text": [
      "c5 corvette https://images.craigslist.org/01515_d9cNwgtHgX5_600x450.jpg i have a 1999 c5 corvette clean title with only 134k miles. car is completely stock besides being lowered and custom stereo set up with 2 10inch subs specifically to fit a c5 corvette. interior is 9/10 condition and exterior is 9.5/10 condition car is very clean and reliable no overheating or leaking under neath; tags are up to date only con about car is a/c does not work it needs to be recharged besides that car is awesome rides smooth and sturdy rims are brand new same with tires no curb rash or scratches asking 12k obo or trade for a cts v; trailblazer ss; gto ; g8 or camaro ss no pos cars please or low ballers they will be ignored 1999 chevrolet corvette condition: excellent#cylinders: 8 cylinders#drive: rwd#fuel: gas#odometer: 134000#paint color: red#size: compact#title status: clean#transmission: automatic#type: coupe\n",
      "        Year = 1999   Miles = 134000 1999\n",
      "134000\n",
      "None\n"
     ]
    }
   ],
   "source": [
    "page_link = 'https://sfbay.craigslist.org/sfc/cto/6184550202.html'\n",
    "\n",
    "page = requests.get(page_link, headers=head)\n",
    "soup = BeautifulSoup(page.text, \"lxml\")\n",
    "\n",
    "mytitle, myimglink, mymessage, myattr_model, myattributes = analyze_page(page)\n",
    "\n",
    "print mytitle, myimglink, mymessage, myattr_model, myattributes\n",
    "\n",
    "myyear = get_year(mytitle, myattr_model) \n",
    "mymiles = get_miles(myattributes, mytitle, mymessage)\n",
    "title_status = get_title_status(myattributes)\n",
    "\n",
    "print myyear\n",
    "print mymiles\n",
    "print title_status"
   ]
  },
  {
   "cell_type": "code",
   "execution_count": 360,
   "metadata": {
    "collapsed": false
   },
   "outputs": [
    {
     "data": {
      "text/plain": [
       "'140'"
      ]
     },
     "execution_count": 360,
     "metadata": {},
     "output_type": "execute_result"
    }
   ],
   "source": [
    "mile='140s'\n",
    "mile = re.sub(r'[^0-9]+', '', mile)\n",
    "mile"
   ]
  },
  {
   "cell_type": "code",
   "execution_count": 2,
   "metadata": {
    "collapsed": false
   },
   "outputs": [
    {
     "name": "stdout",
     "output_type": "stream",
     "text": [
      "aあä\n",
      "a\n"
     ]
    }
   ],
   "source": [
    "test = u'aあä'\n",
    "print test\n",
    "test1 = test.encode('ascii', 'ignore')\n",
    "print test1"
   ]
  },
  {
   "cell_type": "code",
   "execution_count": null,
   "metadata": {
    "collapsed": true
   },
   "outputs": [],
   "source": []
  }
 ],
 "metadata": {
  "kernelspec": {
   "display_name": "Python 2",
   "language": "python",
   "name": "python2"
  },
  "language_info": {
   "codemirror_mode": {
    "name": "ipython",
    "version": 2
   },
   "file_extension": ".py",
   "mimetype": "text/x-python",
   "name": "python",
   "nbconvert_exporter": "python",
   "pygments_lexer": "ipython2",
   "version": "2.7.13"
  }
 },
 "nbformat": 4,
 "nbformat_minor": 2
}
